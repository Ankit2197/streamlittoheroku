{
 "cells": [
  {
   "cell_type": "code",
   "execution_count": 143,
   "metadata": {
    "colab": {
     "base_uri": "https://localhost:8080/"
    },
    "id": "c-IXNTOH-H0W",
    "outputId": "83a535eb-fe09-4590-eed0-3ad268ef3be7"
   },
   "outputs": [
    {
     "name": "stdout",
     "output_type": "stream",
     "text": [
      "Requirement already satisfied: tensorflow in c:\\users\\kiit1\\anaconda3\\lib\\site-packages (2.9.1)\n",
      "Requirement already satisfied: termcolor>=1.1.0 in c:\\users\\kiit1\\anaconda3\\lib\\site-packages (from tensorflow) (1.1.0)\n",
      "Requirement already satisfied: numpy>=1.20 in c:\\users\\kiit1\\anaconda3\\lib\\site-packages (from tensorflow) (1.21.5)\n",
      "Requirement already satisfied: setuptools in c:\\users\\kiit1\\anaconda3\\lib\\site-packages (from tensorflow) (61.2.0)\n",
      "Requirement already satisfied: absl-py>=1.0.0 in c:\\users\\kiit1\\anaconda3\\lib\\site-packages (from tensorflow) (1.2.0)\n",
      "Requirement already satisfied: h5py>=2.9.0 in c:\\users\\kiit1\\anaconda3\\lib\\site-packages (from tensorflow) (3.6.0)\n",
      "Requirement already satisfied: grpcio<2.0,>=1.24.3 in c:\\users\\kiit1\\anaconda3\\lib\\site-packages (from tensorflow) (1.42.0)\n",
      "Requirement already satisfied: astunparse>=1.6.0 in c:\\users\\kiit1\\anaconda3\\lib\\site-packages (from tensorflow) (1.6.3)\n",
      "Note: you may need to restart the kernel to use updated packages.Requirement already satisfied: protobuf<3.20,>=3.9.2 in c:\\users\\kiit1\\anaconda3\\lib\\site-packages (from tensorflow) (3.19.1)\n",
      "Requirement already satisfied: google-pasta>=0.1.1 in c:\\users\\kiit1\\anaconda3\\lib\\site-packages (from tensorflow) (0.2.0)\n",
      "Requirement already satisfied: packaging in c:\\users\\kiit1\\anaconda3\\lib\\site-packages (from tensorflow) (21.3)\n",
      "Requirement already satisfied: tensorflow-estimator<2.10.0,>=2.9.0rc0 in c:\\users\\kiit1\\anaconda3\\lib\\site-packages (from tensorflow) (2.9.0)\n",
      "Requirement already satisfied: gast<=0.4.0,>=0.2.1 in c:\\users\\kiit1\\anaconda3\\lib\\site-packages (from tensorflow) (0.4.0)\n",
      "Requirement already satisfied: six>=1.12.0 in c:\\users\\kiit1\\anaconda3\\lib\\site-packages (from tensorflow) (1.16.0)\n",
      "Requirement already satisfied: typing-extensions>=3.6.6 in c:\\users\\kiit1\\anaconda3\\lib\\site-packages (from tensorflow) (4.1.1)\n",
      "Requirement already satisfied: keras-preprocessing>=1.1.1 in c:\\users\\kiit1\\anaconda3\\lib\\site-packages (from tensorflow) (1.1.2)\n",
      "Requirement already satisfied: tensorflow-io-gcs-filesystem>=0.23.1 in c:\\users\\kiit1\\anaconda3\\lib\\site-packages (from tensorflow) (0.26.0)\n",
      "Requirement already satisfied: tensorboard<2.10,>=2.9 in c:\\users\\kiit1\\anaconda3\\lib\\site-packages (from tensorflow) (2.9.1)\n",
      "Requirement already satisfied: flatbuffers<2,>=1.12 in c:\\users\\kiit1\\anaconda3\\lib\\site-packages (from tensorflow) (1.12)\n",
      "Requirement already satisfied: wrapt>=1.11.0 in c:\\users\\kiit1\\anaconda3\\lib\\site-packages (from tensorflow) (1.12.1)\n",
      "Requirement already satisfied: libclang>=13.0.0 in c:\\users\\kiit1\\anaconda3\\lib\\site-packages (from tensorflow) (14.0.6)\n",
      "Requirement already satisfied: keras<2.10.0,>=2.9.0rc0 in c:\\users\\kiit1\\anaconda3\\lib\\site-packages (from tensorflow) (2.9.0)\n",
      "Requirement already satisfied: opt-einsum>=2.3.2 in c:\\users\\kiit1\\anaconda3\\lib\\site-packages (from tensorflow) (3.3.0)\n",
      "Requirement already satisfied: wheel<1.0,>=0.23.0 in c:\\users\\kiit1\\anaconda3\\lib\\site-packages (from astunparse>=1.6.0->tensorflow) (0.37.1)\n",
      "Requirement already satisfied: markdown>=2.6.8 in c:\\users\\kiit1\\anaconda3\\lib\\site-packages (from tensorboard<2.10,>=2.9->tensorflow) (3.3.4)\n",
      "Requirement already satisfied: werkzeug>=1.0.1 in c:\\users\\kiit1\\anaconda3\\lib\\site-packages (from tensorboard<2.10,>=2.9->tensorflow) (2.0.3)\n",
      "Requirement already satisfied: tensorboard-data-server<0.7.0,>=0.6.0 in c:\\users\\kiit1\\anaconda3\\lib\\site-packages (from tensorboard<2.10,>=2.9->tensorflow) (0.6.1)\n",
      "Requirement already satisfied: google-auth-oauthlib<0.5,>=0.4.1 in c:\\users\\kiit1\\anaconda3\\lib\\site-packages (from tensorboard<2.10,>=2.9->tensorflow) (0.4.6)\n",
      "Requirement already satisfied: tensorboard-plugin-wit>=1.6.0 in c:\\users\\kiit1\\anaconda3\\lib\\site-packages (from tensorboard<2.10,>=2.9->tensorflow) (1.8.1)\n",
      "\n",
      "Requirement already satisfied: requests<3,>=2.21.0 in c:\\users\\kiit1\\anaconda3\\lib\\site-packages (from tensorboard<2.10,>=2.9->tensorflow) (2.27.1)\n",
      "Requirement already satisfied: google-auth<3,>=1.6.3 in c:\\users\\kiit1\\anaconda3\\lib\\site-packages (from tensorboard<2.10,>=2.9->tensorflow) (1.33.0)\n",
      "Requirement already satisfied: rsa<5,>=3.1.4 in c:\\users\\kiit1\\anaconda3\\lib\\site-packages (from google-auth<3,>=1.6.3->tensorboard<2.10,>=2.9->tensorflow) (4.7.2)\n",
      "Requirement already satisfied: cachetools<5.0,>=2.0.0 in c:\\users\\kiit1\\anaconda3\\lib\\site-packages (from google-auth<3,>=1.6.3->tensorboard<2.10,>=2.9->tensorflow) (4.2.2)\n",
      "Requirement already satisfied: pyasn1-modules>=0.2.1 in c:\\users\\kiit1\\anaconda3\\lib\\site-packages (from google-auth<3,>=1.6.3->tensorboard<2.10,>=2.9->tensorflow) (0.2.8)\n",
      "Requirement already satisfied: requests-oauthlib>=0.7.0 in c:\\users\\kiit1\\anaconda3\\lib\\site-packages (from google-auth-oauthlib<0.5,>=0.4.1->tensorboard<2.10,>=2.9->tensorflow) (1.3.1)\n",
      "Requirement already satisfied: pyasn1<0.5.0,>=0.4.6 in c:\\users\\kiit1\\anaconda3\\lib\\site-packages (from pyasn1-modules>=0.2.1->google-auth<3,>=1.6.3->tensorboard<2.10,>=2.9->tensorflow) (0.4.8)\n",
      "Requirement already satisfied: urllib3<1.27,>=1.21.1 in c:\\users\\kiit1\\anaconda3\\lib\\site-packages (from requests<3,>=2.21.0->tensorboard<2.10,>=2.9->tensorflow) (1.26.9)\n",
      "Requirement already satisfied: idna<4,>=2.5 in c:\\users\\kiit1\\anaconda3\\lib\\site-packages (from requests<3,>=2.21.0->tensorboard<2.10,>=2.9->tensorflow) (3.3)\n",
      "Requirement already satisfied: certifi>=2017.4.17 in c:\\users\\kiit1\\anaconda3\\lib\\site-packages (from requests<3,>=2.21.0->tensorboard<2.10,>=2.9->tensorflow) (2021.10.8)\n",
      "Requirement already satisfied: charset-normalizer~=2.0.0 in c:\\users\\kiit1\\anaconda3\\lib\\site-packages (from requests<3,>=2.21.0->tensorboard<2.10,>=2.9->tensorflow) (2.0.4)\n",
      "Requirement already satisfied: oauthlib>=3.0.0 in c:\\users\\kiit1\\anaconda3\\lib\\site-packages (from requests-oauthlib>=0.7.0->google-auth-oauthlib<0.5,>=0.4.1->tensorboard<2.10,>=2.9->tensorflow) (3.2.0)\n",
      "Requirement already satisfied: pyparsing!=3.0.5,>=2.0.2 in c:\\users\\kiit1\\anaconda3\\lib\\site-packages (from packaging->tensorflow) (3.0.4)\n"
     ]
    }
   ],
   "source": [
    "pip install tensorflow"
   ]
  },
  {
   "cell_type": "code",
   "execution_count": 144,
   "metadata": {
    "id": "UU14i_5W92qS"
   },
   "outputs": [],
   "source": [
    "import os\n",
    "import numpy as np\n",
    "import pandas as pd\n",
    "import matplotlib.pyplot as plt\n",
    "import seaborn as sns\n",
    "import plotly.graph_objects as go\n",
    "from sklearn.preprocessing import StandardScaler"
   ]
  },
  {
   "cell_type": "markdown",
   "metadata": {
    "id": "AhMdo2TIxJCg"
   },
   "source": [
    "*italicized text*\n",
    "\n",
    "\n",
    "\n",
    "\n",
    "\n",
    "\n",
    "\n",
    "\n",
    "\n",
    "\n",
    "\n",
    "#                                                          **S&P Analysis**"
   ]
  },
  {
   "cell_type": "code",
   "execution_count": 145,
   "metadata": {
    "colab": {
     "base_uri": "https://localhost:8080/",
     "height": 206
    },
    "id": "14c4e331",
    "outputId": "3ae62352-e72b-45a3-95f8-39da875aad8a"
   },
   "outputs": [
    {
     "data": {
      "text/html": [
       "<div>\n",
       "<style scoped>\n",
       "    .dataframe tbody tr th:only-of-type {\n",
       "        vertical-align: middle;\n",
       "    }\n",
       "\n",
       "    .dataframe tbody tr th {\n",
       "        vertical-align: top;\n",
       "    }\n",
       "\n",
       "    .dataframe thead th {\n",
       "        text-align: right;\n",
       "    }\n",
       "</style>\n",
       "<table border=\"1\" class=\"dataframe\">\n",
       "  <thead>\n",
       "    <tr style=\"text-align: right;\">\n",
       "      <th></th>\n",
       "      <th>Date</th>\n",
       "      <th>Close/Last</th>\n",
       "      <th>Volume</th>\n",
       "      <th>Open</th>\n",
       "      <th>High</th>\n",
       "      <th>Low</th>\n",
       "    </tr>\n",
       "  </thead>\n",
       "  <tbody>\n",
       "    <tr>\n",
       "      <th>0</th>\n",
       "      <td>06/24/2022</td>\n",
       "      <td>3911.74</td>\n",
       "      <td>--</td>\n",
       "      <td>3821.75</td>\n",
       "      <td>3913.65</td>\n",
       "      <td>3821.75</td>\n",
       "    </tr>\n",
       "    <tr>\n",
       "      <th>1</th>\n",
       "      <td>06/23/2022</td>\n",
       "      <td>3795.73</td>\n",
       "      <td>--</td>\n",
       "      <td>3774.71</td>\n",
       "      <td>3802.58</td>\n",
       "      <td>3743.52</td>\n",
       "    </tr>\n",
       "    <tr>\n",
       "      <th>2</th>\n",
       "      <td>06/22/2022</td>\n",
       "      <td>3759.89</td>\n",
       "      <td>--</td>\n",
       "      <td>3733.89</td>\n",
       "      <td>3801.79</td>\n",
       "      <td>3717.69</td>\n",
       "    </tr>\n",
       "    <tr>\n",
       "      <th>3</th>\n",
       "      <td>06/21/2022</td>\n",
       "      <td>3764.79</td>\n",
       "      <td>--</td>\n",
       "      <td>3715.31</td>\n",
       "      <td>3779.65</td>\n",
       "      <td>3715.31</td>\n",
       "    </tr>\n",
       "    <tr>\n",
       "      <th>4</th>\n",
       "      <td>06/17/2022</td>\n",
       "      <td>3674.84</td>\n",
       "      <td>--</td>\n",
       "      <td>3665.90</td>\n",
       "      <td>3707.71</td>\n",
       "      <td>3636.87</td>\n",
       "    </tr>\n",
       "  </tbody>\n",
       "</table>\n",
       "</div>"
      ],
      "text/plain": [
       "         Date  Close/Last Volume     Open     High      Low\n",
       "0  06/24/2022     3911.74     --  3821.75  3913.65  3821.75\n",
       "1  06/23/2022     3795.73     --  3774.71  3802.58  3743.52\n",
       "2  06/22/2022     3759.89     --  3733.89  3801.79  3717.69\n",
       "3  06/21/2022     3764.79     --  3715.31  3779.65  3715.31\n",
       "4  06/17/2022     3674.84     --  3665.90  3707.71  3636.87"
      ]
     },
     "execution_count": 145,
     "metadata": {},
     "output_type": "execute_result"
    }
   ],
   "source": [
    "# Reading dataset\n",
    "stock_data=pd.read_csv(\"D:\\internship_technocolab\\project\\S&P500_HistoricalData_1656311331506.csv\")\n",
    "stock_data.head()"
   ]
  },
  {
   "cell_type": "markdown",
   "metadata": {
    "id": "d42MkTSL4NL-"
   },
   "source": [
    "DATA CLEANING"
   ]
  },
  {
   "cell_type": "markdown",
   "metadata": {
    "id": "90Wo11Op77cJ"
   },
   "source": [
    "As volume contains null value and volume means the number of shares bought or sold during the paricular period i.e. can't be calculated from given dataset. So removing the volume column."
   ]
  },
  {
   "cell_type": "code",
   "execution_count": 146,
   "metadata": {
    "colab": {
     "base_uri": "https://localhost:8080/",
     "height": 206
    },
    "id": "df8c482d",
    "outputId": "0e54c789-0498-4c58-ac52-34f378f012b4"
   },
   "outputs": [
    {
     "data": {
      "text/html": [
       "<div>\n",
       "<style scoped>\n",
       "    .dataframe tbody tr th:only-of-type {\n",
       "        vertical-align: middle;\n",
       "    }\n",
       "\n",
       "    .dataframe tbody tr th {\n",
       "        vertical-align: top;\n",
       "    }\n",
       "\n",
       "    .dataframe thead th {\n",
       "        text-align: right;\n",
       "    }\n",
       "</style>\n",
       "<table border=\"1\" class=\"dataframe\">\n",
       "  <thead>\n",
       "    <tr style=\"text-align: right;\">\n",
       "      <th></th>\n",
       "      <th>Date</th>\n",
       "      <th>Close/Last</th>\n",
       "      <th>Open</th>\n",
       "      <th>High</th>\n",
       "      <th>Low</th>\n",
       "    </tr>\n",
       "  </thead>\n",
       "  <tbody>\n",
       "    <tr>\n",
       "      <th>0</th>\n",
       "      <td>06/24/2022</td>\n",
       "      <td>3911.74</td>\n",
       "      <td>3821.75</td>\n",
       "      <td>3913.65</td>\n",
       "      <td>3821.75</td>\n",
       "    </tr>\n",
       "    <tr>\n",
       "      <th>1</th>\n",
       "      <td>06/23/2022</td>\n",
       "      <td>3795.73</td>\n",
       "      <td>3774.71</td>\n",
       "      <td>3802.58</td>\n",
       "      <td>3743.52</td>\n",
       "    </tr>\n",
       "    <tr>\n",
       "      <th>2</th>\n",
       "      <td>06/22/2022</td>\n",
       "      <td>3759.89</td>\n",
       "      <td>3733.89</td>\n",
       "      <td>3801.79</td>\n",
       "      <td>3717.69</td>\n",
       "    </tr>\n",
       "    <tr>\n",
       "      <th>3</th>\n",
       "      <td>06/21/2022</td>\n",
       "      <td>3764.79</td>\n",
       "      <td>3715.31</td>\n",
       "      <td>3779.65</td>\n",
       "      <td>3715.31</td>\n",
       "    </tr>\n",
       "    <tr>\n",
       "      <th>4</th>\n",
       "      <td>06/17/2022</td>\n",
       "      <td>3674.84</td>\n",
       "      <td>3665.90</td>\n",
       "      <td>3707.71</td>\n",
       "      <td>3636.87</td>\n",
       "    </tr>\n",
       "  </tbody>\n",
       "</table>\n",
       "</div>"
      ],
      "text/plain": [
       "         Date  Close/Last     Open     High      Low\n",
       "0  06/24/2022     3911.74  3821.75  3913.65  3821.75\n",
       "1  06/23/2022     3795.73  3774.71  3802.58  3743.52\n",
       "2  06/22/2022     3759.89  3733.89  3801.79  3717.69\n",
       "3  06/21/2022     3764.79  3715.31  3779.65  3715.31\n",
       "4  06/17/2022     3674.84  3665.90  3707.71  3636.87"
      ]
     },
     "execution_count": 146,
     "metadata": {},
     "output_type": "execute_result"
    }
   ],
   "source": [
    "std_1=stock_data.copy()\n",
    "std_1[\"Volume\"]=std_1[\"Volume\"].replace(\"--\",np.nan)\n",
    "std_1 = std_1.dropna(axis=1)\n",
    "std_1.head()"
   ]
  },
  {
   "cell_type": "code",
   "execution_count": 147,
   "metadata": {
    "colab": {
     "base_uri": "https://localhost:8080/"
    },
    "id": "uhMuqfhRz_j6",
    "outputId": "cb59d6a9-44ff-4c48-d0b7-aa7a1c82726c"
   },
   "outputs": [
    {
     "data": {
      "text/plain": [
       "0.00       33\n",
       "2578.29     2\n",
       "2761.85     2\n",
       "2674.35     2\n",
       "2074.28     2\n",
       "           ..\n",
       "2816.88     1\n",
       "2808.02     1\n",
       "2793.73     1\n",
       "2795.76     1\n",
       "1334.40     1\n",
       "Name: High, Length: 2497, dtype: int64"
      ]
     },
     "execution_count": 147,
     "metadata": {},
     "output_type": "execute_result"
    }
   ],
   "source": [
    "std_1[\"High\"].value_counts()"
   ]
  },
  {
   "cell_type": "markdown",
   "metadata": {
    "id": "ue2JWrjW0d4T"
   },
   "source": [
    "Since 33 rows of column Close/Last, High, Low is having 0.00 value. They belong to the date of christmas,new year,etc.. So, removing such missing rows."
   ]
  },
  {
   "cell_type": "code",
   "execution_count": 148,
   "metadata": {
    "colab": {
     "base_uri": "https://localhost:8080/",
     "height": 206
    },
    "id": "b719da6d",
    "outputId": "aff81047-2dfd-45eb-f6c6-269a5cdf9e47",
    "scrolled": true
   },
   "outputs": [
    {
     "data": {
      "text/html": [
       "<div>\n",
       "<style scoped>\n",
       "    .dataframe tbody tr th:only-of-type {\n",
       "        vertical-align: middle;\n",
       "    }\n",
       "\n",
       "    .dataframe tbody tr th {\n",
       "        vertical-align: top;\n",
       "    }\n",
       "\n",
       "    .dataframe thead th {\n",
       "        text-align: right;\n",
       "    }\n",
       "</style>\n",
       "<table border=\"1\" class=\"dataframe\">\n",
       "  <thead>\n",
       "    <tr style=\"text-align: right;\">\n",
       "      <th></th>\n",
       "      <th>Date</th>\n",
       "      <th>Close/Last</th>\n",
       "      <th>Open</th>\n",
       "      <th>High</th>\n",
       "      <th>Low</th>\n",
       "    </tr>\n",
       "  </thead>\n",
       "  <tbody>\n",
       "    <tr>\n",
       "      <th>0</th>\n",
       "      <td>06/24/2022</td>\n",
       "      <td>3911.74</td>\n",
       "      <td>3821.75</td>\n",
       "      <td>3913.65</td>\n",
       "      <td>3821.75</td>\n",
       "    </tr>\n",
       "    <tr>\n",
       "      <th>1</th>\n",
       "      <td>06/23/2022</td>\n",
       "      <td>3795.73</td>\n",
       "      <td>3774.71</td>\n",
       "      <td>3802.58</td>\n",
       "      <td>3743.52</td>\n",
       "    </tr>\n",
       "    <tr>\n",
       "      <th>2</th>\n",
       "      <td>06/22/2022</td>\n",
       "      <td>3759.89</td>\n",
       "      <td>3733.89</td>\n",
       "      <td>3801.79</td>\n",
       "      <td>3717.69</td>\n",
       "    </tr>\n",
       "    <tr>\n",
       "      <th>3</th>\n",
       "      <td>06/21/2022</td>\n",
       "      <td>3764.79</td>\n",
       "      <td>3715.31</td>\n",
       "      <td>3779.65</td>\n",
       "      <td>3715.31</td>\n",
       "    </tr>\n",
       "    <tr>\n",
       "      <th>4</th>\n",
       "      <td>06/17/2022</td>\n",
       "      <td>3674.84</td>\n",
       "      <td>3665.90</td>\n",
       "      <td>3707.71</td>\n",
       "      <td>3636.87</td>\n",
       "    </tr>\n",
       "  </tbody>\n",
       "</table>\n",
       "</div>"
      ],
      "text/plain": [
       "         Date  Close/Last     Open     High      Low\n",
       "0  06/24/2022     3911.74  3821.75  3913.65  3821.75\n",
       "1  06/23/2022     3795.73  3774.71  3802.58  3743.52\n",
       "2  06/22/2022     3759.89  3733.89  3801.79  3717.69\n",
       "3  06/21/2022     3764.79  3715.31  3779.65  3715.31\n",
       "4  06/17/2022     3674.84  3665.90  3707.71  3636.87"
      ]
     },
     "execution_count": 148,
     "metadata": {},
     "output_type": "execute_result"
    }
   ],
   "source": [
    "std_2 = std_1.copy()\n",
    "std_2[\"High\"]=std_2[\"High\"].replace(0, np.nan)\n",
    "std_2=std_2.dropna(axis=0)\n",
    "std_2.head()"
   ]
  },
  {
   "cell_type": "code",
   "execution_count": 149,
   "metadata": {
    "colab": {
     "base_uri": "https://localhost:8080/"
    },
    "id": "b30bf91b",
    "outputId": "83a47f6d-b015-45f1-ae3f-e98b5379b26a"
   },
   "outputs": [
    {
     "data": {
      "text/plain": [
       "(2515, 5)"
      ]
     },
     "execution_count": 149,
     "metadata": {},
     "output_type": "execute_result"
    }
   ],
   "source": [
    "std_2.shape"
   ]
  },
  {
   "cell_type": "code",
   "execution_count": 150,
   "metadata": {
    "colab": {
     "base_uri": "https://localhost:8080/",
     "height": 424
    },
    "id": "5cfedb64",
    "outputId": "74e7c8f6-2402-49bc-8918-d8ccfba809e5"
   },
   "outputs": [
    {
     "data": {
      "text/html": [
       "<div>\n",
       "<style scoped>\n",
       "    .dataframe tbody tr th:only-of-type {\n",
       "        vertical-align: middle;\n",
       "    }\n",
       "\n",
       "    .dataframe tbody tr th {\n",
       "        vertical-align: top;\n",
       "    }\n",
       "\n",
       "    .dataframe thead th {\n",
       "        text-align: right;\n",
       "    }\n",
       "</style>\n",
       "<table border=\"1\" class=\"dataframe\">\n",
       "  <thead>\n",
       "    <tr style=\"text-align: right;\">\n",
       "      <th></th>\n",
       "      <th>Date</th>\n",
       "      <th>Close/Last</th>\n",
       "      <th>Open</th>\n",
       "      <th>High</th>\n",
       "      <th>Low</th>\n",
       "    </tr>\n",
       "  </thead>\n",
       "  <tbody>\n",
       "    <tr>\n",
       "      <th>0</th>\n",
       "      <td>2022-06-24</td>\n",
       "      <td>3911.74</td>\n",
       "      <td>3821.75</td>\n",
       "      <td>3913.65</td>\n",
       "      <td>3821.75</td>\n",
       "    </tr>\n",
       "    <tr>\n",
       "      <th>1</th>\n",
       "      <td>2022-06-23</td>\n",
       "      <td>3795.73</td>\n",
       "      <td>3774.71</td>\n",
       "      <td>3802.58</td>\n",
       "      <td>3743.52</td>\n",
       "    </tr>\n",
       "    <tr>\n",
       "      <th>2</th>\n",
       "      <td>2022-06-22</td>\n",
       "      <td>3759.89</td>\n",
       "      <td>3733.89</td>\n",
       "      <td>3801.79</td>\n",
       "      <td>3717.69</td>\n",
       "    </tr>\n",
       "    <tr>\n",
       "      <th>3</th>\n",
       "      <td>2022-06-21</td>\n",
       "      <td>3764.79</td>\n",
       "      <td>3715.31</td>\n",
       "      <td>3779.65</td>\n",
       "      <td>3715.31</td>\n",
       "    </tr>\n",
       "    <tr>\n",
       "      <th>4</th>\n",
       "      <td>2022-06-17</td>\n",
       "      <td>3674.84</td>\n",
       "      <td>3665.90</td>\n",
       "      <td>3707.71</td>\n",
       "      <td>3636.87</td>\n",
       "    </tr>\n",
       "    <tr>\n",
       "      <th>...</th>\n",
       "      <td>...</td>\n",
       "      <td>...</td>\n",
       "      <td>...</td>\n",
       "      <td>...</td>\n",
       "      <td>...</td>\n",
       "    </tr>\n",
       "    <tr>\n",
       "      <th>2543</th>\n",
       "      <td>2012-07-03</td>\n",
       "      <td>1374.02</td>\n",
       "      <td>1365.75</td>\n",
       "      <td>1374.81</td>\n",
       "      <td>1363.53</td>\n",
       "    </tr>\n",
       "    <tr>\n",
       "      <th>2544</th>\n",
       "      <td>2012-07-02</td>\n",
       "      <td>1365.51</td>\n",
       "      <td>1362.33</td>\n",
       "      <td>1366.35</td>\n",
       "      <td>1355.70</td>\n",
       "    </tr>\n",
       "    <tr>\n",
       "      <th>2545</th>\n",
       "      <td>2012-06-29</td>\n",
       "      <td>1362.16</td>\n",
       "      <td>1330.12</td>\n",
       "      <td>1362.17</td>\n",
       "      <td>1330.12</td>\n",
       "    </tr>\n",
       "    <tr>\n",
       "      <th>2546</th>\n",
       "      <td>2012-06-28</td>\n",
       "      <td>1329.04</td>\n",
       "      <td>1331.52</td>\n",
       "      <td>1331.52</td>\n",
       "      <td>1313.29</td>\n",
       "    </tr>\n",
       "    <tr>\n",
       "      <th>2547</th>\n",
       "      <td>2012-06-27</td>\n",
       "      <td>1331.85</td>\n",
       "      <td>1320.71</td>\n",
       "      <td>1334.40</td>\n",
       "      <td>1320.71</td>\n",
       "    </tr>\n",
       "  </tbody>\n",
       "</table>\n",
       "<p>2515 rows × 5 columns</p>\n",
       "</div>"
      ],
      "text/plain": [
       "           Date  Close/Last     Open     High      Low\n",
       "0    2022-06-24     3911.74  3821.75  3913.65  3821.75\n",
       "1    2022-06-23     3795.73  3774.71  3802.58  3743.52\n",
       "2    2022-06-22     3759.89  3733.89  3801.79  3717.69\n",
       "3    2022-06-21     3764.79  3715.31  3779.65  3715.31\n",
       "4    2022-06-17     3674.84  3665.90  3707.71  3636.87\n",
       "...         ...         ...      ...      ...      ...\n",
       "2543 2012-07-03     1374.02  1365.75  1374.81  1363.53\n",
       "2544 2012-07-02     1365.51  1362.33  1366.35  1355.70\n",
       "2545 2012-06-29     1362.16  1330.12  1362.17  1330.12\n",
       "2546 2012-06-28     1329.04  1331.52  1331.52  1313.29\n",
       "2547 2012-06-27     1331.85  1320.71  1334.40  1320.71\n",
       "\n",
       "[2515 rows x 5 columns]"
      ]
     },
     "execution_count": 150,
     "metadata": {},
     "output_type": "execute_result"
    }
   ],
   "source": [
    "# converting date column to datetime format to access day, month and year \n",
    "std_2[\"Date\"]=pd.to_datetime(std_2[\"Date\"],format=\"%m/%d/%Y\")\n",
    "std_2"
   ]
  },
  {
   "cell_type": "markdown",
   "metadata": {
    "id": "_NzXclLP82--"
   },
   "source": [
    "Checking for Outliers in Close/last column w.r.t to years."
   ]
  },
  {
   "cell_type": "code",
   "execution_count": 151,
   "metadata": {
    "colab": {
     "base_uri": "https://localhost:8080/",
     "height": 530
    },
    "id": "9ug-oiMC5PZH",
    "outputId": "6c155776-a762-4850-cc5b-6f7f0737406c"
   },
   "outputs": [
    {
     "data": {
      "text/plain": [
       "<AxesSubplot:title={'center':'Outliers in stock price w.r.t years'}, xlabel='year', ylabel='Close/Last'>"
      ]
     },
     "execution_count": 151,
     "metadata": {},
     "output_type": "execute_result"
    },
    {
     "data": {
      "image/png": "[encoded data removed]",
      "text/plain": [
       "<Figure size 1296x576 with 1 Axes>"
      ]
     },
     "metadata": {
      "needs_background": "light"
     },
     "output_type": "display_data"
    }
   ],
   "source": [
    "std_2[\"year\"]=std_2[\"Date\"].dt.year\n",
    "plt.figure(figsize=(18,8))\n",
    "plt.title(\"Outliers in stock price w.r.t years\")\n",
    "sns.boxplot(x=std_2.year,y= std_2[\"Close/Last\"])"
   ]
  },
  {
   "cell_type": "markdown",
   "metadata": {
    "id": "QPbNKuuNfPok"
   },
   "source": [
    "From box-plot it is clear theat in year 2015, 2016, 2018, 2019, 2020 is having outliers with their closing price. So we need to remove outliers from these years."
   ]
  },
  {
   "cell_type": "code",
   "execution_count": 152,
   "metadata": {
    "colab": {
     "base_uri": "https://localhost:8080/"
    },
    "id": "gbX5f41TcvW_",
    "outputId": "c6ff0963-eee1-4ac5-ed04-ce4df8c97f69"
   },
   "outputs": [
    {
     "name": "stdout",
     "output_type": "stream",
     "text": [
      "[           Date  Close/Last     Open     High      Low  year\n",
      "1631 2015-12-31     2043.94  2060.59  2062.54  2043.62  2015\n",
      "1632 2015-12-30     2063.36  2077.34  2077.34  2061.97  2015\n",
      "1633 2015-12-29     2078.36  2060.54  2081.56  2060.54  2015\n",
      "1634 2015-12-28     2056.50  2057.77  2057.77  2044.20  2015\n",
      "1636 2015-12-24     2060.99  2063.52  2067.36  2058.73  2015\n",
      "...         ...         ...      ...      ...      ...   ...\n",
      "1886 2015-01-08     2062.14  2030.61  2064.08  2030.61  2015\n",
      "1887 2015-01-07     2025.90  2005.55  2029.61  2005.55  2015\n",
      "1888 2015-01-06     2002.61  2022.15  2030.25  1992.44  2015\n",
      "1889 2015-01-05     2020.58  2054.44  2054.44  2017.34  2015\n",
      "1890 2015-01-02     2058.20  2058.90  2072.36  2046.04  2015\n",
      "\n",
      "[252 rows x 6 columns],            Date  Close/Last     Open     High      Low  year\n",
      "1379 2016-12-30     2238.83  2251.61  2253.58  2233.62  2016\n",
      "1380 2016-12-29     2249.26  2249.50  2254.51  2244.56  2016\n",
      "1381 2016-12-28     2249.92  2270.23  2271.31  2249.11  2016\n",
      "1382 2016-12-27     2268.88  2266.23  2273.82  2266.15  2016\n",
      "1383 2016-12-23     2263.79  2260.25  2263.79  2258.84  2016\n",
      "...         ...         ...      ...      ...      ...   ...\n",
      "1626 2016-01-08     1922.03  1945.97  1960.40  1918.46  2016\n",
      "1627 2016-01-07     1943.09  1985.32  1985.32  1938.83  2016\n",
      "1628 2016-01-06     1990.26  2011.71  2011.71  1979.05  2016\n",
      "1629 2016-01-05     2016.71  2013.78  2021.94  2004.17  2016\n",
      "1630 2016-01-04     2012.66  2038.20  2038.20  1989.68  2016\n",
      "\n",
      "[252 rows x 6 columns],            Date  Close/Last     Open     High      Low  year\n",
      "877  2018-12-31     2506.85  2498.94  2509.24  2482.82  2018\n",
      "878  2018-12-28     2485.74  2498.77  2520.27  2472.89  2018\n",
      "879  2018-12-27     2488.83  2442.50  2489.10  2397.94  2018\n",
      "880  2018-12-26     2467.70  2363.12  2467.76  2346.58  2018\n",
      "881  2018-12-24     2351.10  2400.56  2410.34  2351.10  2018\n",
      "...         ...         ...      ...      ...      ...   ...\n",
      "1123 2018-01-08     2747.71  2742.67  2748.51  2737.60  2018\n",
      "1124 2018-01-05     2743.15  2731.33  2743.45  2727.92  2018\n",
      "1125 2018-01-04     2723.99  2719.31  2729.29  2719.07  2018\n",
      "1126 2018-01-03     2713.06  2697.85  2714.37  2697.77  2018\n",
      "1127 2018-01-02     2695.81  2683.73  2695.89  2682.36  2018\n",
      "\n",
      "[251 rows x 6 columns],           Date  Close/Last     Open     High      Low  year\n",
      "625 2019-12-31     3230.78  3215.18  3231.72  3212.03  2019\n",
      "626 2019-12-30     3221.29  3240.09  3240.92  3216.57  2019\n",
      "627 2019-12-27     3240.02  3247.23  3247.93  3234.37  2019\n",
      "628 2019-12-26     3239.91  3227.20  3240.08  3227.20  2019\n",
      "629 2019-12-24     3223.38  3225.45  3226.43  3220.51  2019\n",
      "..         ...         ...      ...      ...      ...   ...\n",
      "872 2019-01-08     2574.41  2568.11  2579.82  2547.56  2019\n",
      "873 2019-01-07     2549.69  2535.61  2566.16  2524.56  2019\n",
      "874 2019-01-04     2531.94  2474.33  2538.07  2474.33  2019\n",
      "875 2019-01-03     2447.89  2491.92  2493.14  2443.96  2019\n",
      "876 2019-01-02     2510.03  2476.96  2519.49  2467.47  2019\n",
      "\n",
      "[252 rows x 6 columns],           Date  Close/Last     Open     High      Low  year\n",
      "372 2020-12-31     3756.07  3733.27  3760.20  3726.88  2020\n",
      "373 2020-12-30     3732.04  3736.19  3744.63  3730.21  2020\n",
      "374 2020-12-29     3727.04  3750.01  3756.12  3723.31  2020\n",
      "375 2020-12-28     3735.36  3723.03  3740.51  3723.03  2020\n",
      "376 2020-12-24     3703.06  3694.03  3703.82  3689.32  2020\n",
      "..         ...         ...      ...      ...      ...   ...\n",
      "620 2020-01-08     3253.05  3238.59  3267.07  3236.67  2020\n",
      "621 2020-01-07     3237.18  3241.86  3244.91  3232.43  2020\n",
      "622 2020-01-06     3246.28  3217.55  3246.84  3214.64  2020\n",
      "623 2020-01-03     3234.85  3226.36  3246.15  3222.34  2020\n",
      "624 2020-01-02     3257.85  3244.67  3258.14  3235.53  2020\n",
      "\n",
      "[253 rows x 6 columns]]\n"
     ]
    }
   ],
   "source": [
    "#  bifuracting years w.r.t one which are having outliers. \n",
    "c=[2015,2016,2018,2019,2020]\n",
    "y=[]\n",
    "for i in c:\n",
    "  s= std_2[std_2.year==i]\n",
    "  y.append(s)\n",
    "print(y)  \n",
    "\n",
    "# bifuracting years w.r.t one which is not having outliers\n",
    "d=[2012,2013,2014,2017,2021,2022]\n",
    "k=[]\n",
    "for i in d:\n",
    "  b = std_2[std_2.year==i]\n",
    "  k.append(b)"
   ]
  },
  {
   "cell_type": "code",
   "execution_count": 153,
   "metadata": {
    "colab": {
     "base_uri": "https://localhost:8080/",
     "height": 1000
    },
    "id": "OmrPMmOT3jks",
    "outputId": "1618080e-282e-4f7d-ca26-2fb571054d56"
   },
   "outputs": [
    {
     "name": "stderr",
     "output_type": "stream",
     "text": [
      "C:\\Users\\kiit1\\AppData\\Local\\Temp\\ipykernel_8152\\3115593927.py:11: SettingWithCopyWarning: \n",
      "A value is trying to be set on a copy of a slice from a DataFrame.\n",
      "Try using .loc[row_indexer,col_indexer] = value instead\n",
      "\n",
      "See the caveats in the documentation: https://pandas.pydata.org/pandas-docs/stable/user_guide/indexing.html#returning-a-view-versus-a-copy\n",
      "  i[\"Close/Last\"]= np.where(i[\"Close/Last\"]>high_point,high_point,i[\"Close/Last\"])\n",
      "C:\\Users\\kiit1\\AppData\\Local\\Temp\\ipykernel_8152\\3115593927.py:12: SettingWithCopyWarning: \n",
      "A value is trying to be set on a copy of a slice from a DataFrame.\n",
      "Try using .loc[row_indexer,col_indexer] = value instead\n",
      "\n",
      "See the caveats in the documentation: https://pandas.pydata.org/pandas-docs/stable/user_guide/indexing.html#returning-a-view-versus-a-copy\n",
      "  i[\"Close/Last\"]= np.where(i[\"Close/Last\"]<low_point,low_point,i[\"Close/Last\"])\n",
      "C:\\Users\\kiit1\\AppData\\Local\\Temp\\ipykernel_8152\\3115593927.py:11: SettingWithCopyWarning: \n",
      "A value is trying to be set on a copy of a slice from a DataFrame.\n",
      "Try using .loc[row_indexer,col_indexer] = value instead\n",
      "\n",
      "See the caveats in the documentation: https://pandas.pydata.org/pandas-docs/stable/user_guide/indexing.html#returning-a-view-versus-a-copy\n",
      "  i[\"Close/Last\"]= np.where(i[\"Close/Last\"]>high_point,high_point,i[\"Close/Last\"])\n",
      "C:\\Users\\kiit1\\AppData\\Local\\Temp\\ipykernel_8152\\3115593927.py:12: SettingWithCopyWarning: \n",
      "A value is trying to be set on a copy of a slice from a DataFrame.\n",
      "Try using .loc[row_indexer,col_indexer] = value instead\n",
      "\n",
      "See the caveats in the documentation: https://pandas.pydata.org/pandas-docs/stable/user_guide/indexing.html#returning-a-view-versus-a-copy\n",
      "  i[\"Close/Last\"]= np.where(i[\"Close/Last\"]<low_point,low_point,i[\"Close/Last\"])\n",
      "C:\\Users\\kiit1\\AppData\\Local\\Temp\\ipykernel_8152\\3115593927.py:11: SettingWithCopyWarning: \n",
      "A value is trying to be set on a copy of a slice from a DataFrame.\n",
      "Try using .loc[row_indexer,col_indexer] = value instead\n",
      "\n",
      "See the caveats in the documentation: https://pandas.pydata.org/pandas-docs/stable/user_guide/indexing.html#returning-a-view-versus-a-copy\n",
      "  i[\"Close/Last\"]= np.where(i[\"Close/Last\"]>high_point,high_point,i[\"Close/Last\"])\n",
      "C:\\Users\\kiit1\\AppData\\Local\\Temp\\ipykernel_8152\\3115593927.py:12: SettingWithCopyWarning: \n",
      "A value is trying to be set on a copy of a slice from a DataFrame.\n",
      "Try using .loc[row_indexer,col_indexer] = value instead\n",
      "\n",
      "See the caveats in the documentation: https://pandas.pydata.org/pandas-docs/stable/user_guide/indexing.html#returning-a-view-versus-a-copy\n",
      "  i[\"Close/Last\"]= np.where(i[\"Close/Last\"]<low_point,low_point,i[\"Close/Last\"])\n",
      "C:\\Users\\kiit1\\AppData\\Local\\Temp\\ipykernel_8152\\3115593927.py:11: SettingWithCopyWarning: \n",
      "A value is trying to be set on a copy of a slice from a DataFrame.\n",
      "Try using .loc[row_indexer,col_indexer] = value instead\n",
      "\n",
      "See the caveats in the documentation: https://pandas.pydata.org/pandas-docs/stable/user_guide/indexing.html#returning-a-view-versus-a-copy\n",
      "  i[\"Close/Last\"]= np.where(i[\"Close/Last\"]>high_point,high_point,i[\"Close/Last\"])\n",
      "C:\\Users\\kiit1\\AppData\\Local\\Temp\\ipykernel_8152\\3115593927.py:12: SettingWithCopyWarning: \n",
      "A value is trying to be set on a copy of a slice from a DataFrame.\n",
      "Try using .loc[row_indexer,col_indexer] = value instead\n",
      "\n",
      "See the caveats in the documentation: https://pandas.pydata.org/pandas-docs/stable/user_guide/indexing.html#returning-a-view-versus-a-copy\n",
      "  i[\"Close/Last\"]= np.where(i[\"Close/Last\"]<low_point,low_point,i[\"Close/Last\"])\n",
      "C:\\Users\\kiit1\\AppData\\Local\\Temp\\ipykernel_8152\\3115593927.py:11: SettingWithCopyWarning: \n",
      "A value is trying to be set on a copy of a slice from a DataFrame.\n",
      "Try using .loc[row_indexer,col_indexer] = value instead\n",
      "\n",
      "See the caveats in the documentation: https://pandas.pydata.org/pandas-docs/stable/user_guide/indexing.html#returning-a-view-versus-a-copy\n",
      "  i[\"Close/Last\"]= np.where(i[\"Close/Last\"]>high_point,high_point,i[\"Close/Last\"])\n",
      "C:\\Users\\kiit1\\AppData\\Local\\Temp\\ipykernel_8152\\3115593927.py:12: SettingWithCopyWarning: \n",
      "A value is trying to be set on a copy of a slice from a DataFrame.\n",
      "Try using .loc[row_indexer,col_indexer] = value instead\n",
      "\n",
      "See the caveats in the documentation: https://pandas.pydata.org/pandas-docs/stable/user_guide/indexing.html#returning-a-view-versus-a-copy\n",
      "  i[\"Close/Last\"]= np.where(i[\"Close/Last\"]<low_point,low_point,i[\"Close/Last\"])\n"
     ]
    },
    {
     "data": {
      "image/png": "[encoded data removed]",
      "text/plain": [
       "<Figure size 360x360 with 1 Axes>"
      ]
     },
     "metadata": {
      "needs_background": "light"
     },
     "output_type": "display_data"
    },
    {
     "data": {
      "image/png": "[encoded data removed]",
      "text/plain": [
       "<Figure size 360x360 with 1 Axes>"
      ]
     },
     "metadata": {
      "needs_background": "light"
     },
     "output_type": "display_data"
    },
    {
     "data": {
      "image/png": "[encoded data removed]",
      "text/plain": [
       "<Figure size 360x360 with 1 Axes>"
      ]
     },
     "metadata": {
      "needs_background": "light"
     },
     "output_type": "display_data"
    },
    {
     "data": {
      "image/png": "[encoded data removed]",
      "text/plain": [
       "<Figure size 360x360 with 1 Axes>"
      ]
     },
     "metadata": {
      "needs_background": "light"
     },
     "output_type": "display_data"
    },
    {
     "data": {
      "image/png": "[encoded data removed]",
      "text/plain": [
       "<Figure size 360x360 with 1 Axes>"
      ]
     },
     "metadata": {
      "needs_background": "light"
     },
     "output_type": "display_data"
    }
   ],
   "source": [
    "# removing outliers\n",
    "def remove_outliers(col):\n",
    "    sorted(col)\n",
    "    Q1, Q3 = col.quantile([0.25,0.75])\n",
    "    IQR= Q3- Q1\n",
    "    lower_range = Q1-(1.5*IQR)\n",
    "    upper_range= Q3 + (1.5*IQR)\n",
    "    return lower_range,upper_range\n",
    "for i in y:\n",
    "  low_point,high_point= remove_outliers(i[\"Close/Last\"])\n",
    "  i[\"Close/Last\"]= np.where(i[\"Close/Last\"]>high_point,high_point,i[\"Close/Last\"])\n",
    "  i[\"Close/Last\"]= np.where(i[\"Close/Last\"]<low_point,low_point,i[\"Close/Last\"])\n",
    "  sns.catplot(x=\"Close/Last\", data= i, kind=\"box\")\n"
   ]
  },
  {
   "cell_type": "code",
   "execution_count": 154,
   "metadata": {
    "colab": {
     "base_uri": "https://localhost:8080/",
     "height": 424
    },
    "id": "_tFgFyZfp2uU",
    "outputId": "7cd9d784-f4ba-4a37-ce0e-f47d7a323424"
   },
   "outputs": [
    {
     "data": {
      "text/html": [
       "<div>\n",
       "<style scoped>\n",
       "    .dataframe tbody tr th:only-of-type {\n",
       "        vertical-align: middle;\n",
       "    }\n",
       "\n",
       "    .dataframe tbody tr th {\n",
       "        vertical-align: top;\n",
       "    }\n",
       "\n",
       "    .dataframe thead th {\n",
       "        text-align: right;\n",
       "    }\n",
       "</style>\n",
       "<table border=\"1\" class=\"dataframe\">\n",
       "  <thead>\n",
       "    <tr style=\"text-align: right;\">\n",
       "      <th></th>\n",
       "      <th>Date</th>\n",
       "      <th>Close/Last</th>\n",
       "      <th>Open</th>\n",
       "      <th>High</th>\n",
       "      <th>Low</th>\n",
       "      <th>year</th>\n",
       "    </tr>\n",
       "  </thead>\n",
       "  <tbody>\n",
       "    <tr>\n",
       "      <th>2414</th>\n",
       "      <td>2012-12-31</td>\n",
       "      <td>1426.19</td>\n",
       "      <td>1402.43</td>\n",
       "      <td>1426.74</td>\n",
       "      <td>1398.11</td>\n",
       "      <td>2012</td>\n",
       "    </tr>\n",
       "    <tr>\n",
       "      <th>2415</th>\n",
       "      <td>2012-12-28</td>\n",
       "      <td>1402.43</td>\n",
       "      <td>1418.10</td>\n",
       "      <td>1418.10</td>\n",
       "      <td>1401.58</td>\n",
       "      <td>2012</td>\n",
       "    </tr>\n",
       "    <tr>\n",
       "      <th>2416</th>\n",
       "      <td>2012-12-27</td>\n",
       "      <td>1418.10</td>\n",
       "      <td>1419.83</td>\n",
       "      <td>1422.80</td>\n",
       "      <td>1401.80</td>\n",
       "      <td>2012</td>\n",
       "    </tr>\n",
       "    <tr>\n",
       "      <th>2417</th>\n",
       "      <td>2012-12-26</td>\n",
       "      <td>1419.83</td>\n",
       "      <td>1426.66</td>\n",
       "      <td>1429.42</td>\n",
       "      <td>1416.43</td>\n",
       "      <td>2012</td>\n",
       "    </tr>\n",
       "    <tr>\n",
       "      <th>2419</th>\n",
       "      <td>2012-12-24</td>\n",
       "      <td>1426.66</td>\n",
       "      <td>1430.15</td>\n",
       "      <td>1430.15</td>\n",
       "      <td>1424.66</td>\n",
       "      <td>2012</td>\n",
       "    </tr>\n",
       "    <tr>\n",
       "      <th>...</th>\n",
       "      <td>...</td>\n",
       "      <td>...</td>\n",
       "      <td>...</td>\n",
       "      <td>...</td>\n",
       "      <td>...</td>\n",
       "      <td>...</td>\n",
       "    </tr>\n",
       "    <tr>\n",
       "      <th>115</th>\n",
       "      <td>2022-01-07</td>\n",
       "      <td>4677.03</td>\n",
       "      <td>4697.66</td>\n",
       "      <td>4707.95</td>\n",
       "      <td>4662.74</td>\n",
       "      <td>2022</td>\n",
       "    </tr>\n",
       "    <tr>\n",
       "      <th>116</th>\n",
       "      <td>2022-01-06</td>\n",
       "      <td>4696.05</td>\n",
       "      <td>4693.39</td>\n",
       "      <td>4725.01</td>\n",
       "      <td>4671.26</td>\n",
       "      <td>2022</td>\n",
       "    </tr>\n",
       "    <tr>\n",
       "      <th>117</th>\n",
       "      <td>2022-01-05</td>\n",
       "      <td>4700.58</td>\n",
       "      <td>4787.99</td>\n",
       "      <td>4797.70</td>\n",
       "      <td>4699.44</td>\n",
       "      <td>2022</td>\n",
       "    </tr>\n",
       "    <tr>\n",
       "      <th>118</th>\n",
       "      <td>2022-01-04</td>\n",
       "      <td>4793.54</td>\n",
       "      <td>4804.51</td>\n",
       "      <td>4818.62</td>\n",
       "      <td>4774.27</td>\n",
       "      <td>2022</td>\n",
       "    </tr>\n",
       "    <tr>\n",
       "      <th>119</th>\n",
       "      <td>2022-01-03</td>\n",
       "      <td>4796.56</td>\n",
       "      <td>4778.14</td>\n",
       "      <td>4796.64</td>\n",
       "      <td>4758.17</td>\n",
       "      <td>2022</td>\n",
       "    </tr>\n",
       "  </tbody>\n",
       "</table>\n",
       "<p>2515 rows × 6 columns</p>\n",
       "</div>"
      ],
      "text/plain": [
       "           Date  Close/Last     Open     High      Low  year\n",
       "2414 2012-12-31     1426.19  1402.43  1426.74  1398.11  2012\n",
       "2415 2012-12-28     1402.43  1418.10  1418.10  1401.58  2012\n",
       "2416 2012-12-27     1418.10  1419.83  1422.80  1401.80  2012\n",
       "2417 2012-12-26     1419.83  1426.66  1429.42  1416.43  2012\n",
       "2419 2012-12-24     1426.66  1430.15  1430.15  1424.66  2012\n",
       "...         ...         ...      ...      ...      ...   ...\n",
       "115  2022-01-07     4677.03  4697.66  4707.95  4662.74  2022\n",
       "116  2022-01-06     4696.05  4693.39  4725.01  4671.26  2022\n",
       "117  2022-01-05     4700.58  4787.99  4797.70  4699.44  2022\n",
       "118  2022-01-04     4793.54  4804.51  4818.62  4774.27  2022\n",
       "119  2022-01-03     4796.56  4778.14  4796.64  4758.17  2022\n",
       "\n",
       "[2515 rows x 6 columns]"
      ]
     },
     "execution_count": 154,
     "metadata": {},
     "output_type": "execute_result"
    }
   ],
   "source": [
    "# merging all the year dataframes into one and naming it new_s_p500\n",
    "new_s_p500=pd.concat([k[0],k[1],k[2],y[0],y[1],k[3],y[2],y[3],y[4],k[4],k[5]],axis=0)\n",
    "new_s_p500"
   ]
  },
  {
   "cell_type": "code",
   "execution_count": 155,
   "metadata": {
    "colab": {
     "base_uri": "https://localhost:8080/"
    },
    "id": "9ebVsVkd7wJe",
    "outputId": "7bb6ca6f-e8af-45eb-d30c-18b2638fbbab"
   },
   "outputs": [
    {
     "name": "stdout",
     "output_type": "stream",
     "text": [
      "<class 'pandas.core.frame.DataFrame'>\n",
      "Int64Index: 2515 entries, 2414 to 119\n",
      "Data columns (total 6 columns):\n",
      " #   Column      Non-Null Count  Dtype         \n",
      "---  ------      --------------  -----         \n",
      " 0   Date        2515 non-null   datetime64[ns]\n",
      " 1   Close/Last  2515 non-null   float64       \n",
      " 2   Open        2515 non-null   float64       \n",
      " 3   High        2515 non-null   float64       \n",
      " 4   Low         2515 non-null   float64       \n",
      " 5   year        2515 non-null   int64         \n",
      "dtypes: datetime64[ns](1), float64(4), int64(1)\n",
      "memory usage: 137.5 KB\n",
      "None\n",
      "        Close/Last         Open         High          Low         year\n",
      "count  2515.000000  2515.000000  2515.000000  2515.000000  2515.000000\n",
      "mean   2614.375432  2613.362195  2626.815336  2598.650159  2016.984891\n",
      "std     873.786361   874.289398   879.979788   867.684617     2.912638\n",
      "min    1329.040000  1320.710000  1331.520000  1313.290000  2012.000000\n",
      "25%    1985.245000  1983.780000  1991.395000  1974.815000  2014.000000\n",
      "50%    2433.150000  2431.240000  2440.150000  2417.350000  2017.000000\n",
      "75%    3002.735000  3002.875000  3014.245000  2986.685000  2019.000000\n",
      "max    4796.560000  4804.510000  4818.620000  4780.040000  2022.000000\n",
      "(2515, 6)\n"
     ]
    }
   ],
   "source": [
    "# checking for informations on new dataset created\n",
    "print(new_s_p500.info())\n",
    "print(new_s_p500.describe())\n",
    "print(new_s_p500.shape)"
   ]
  },
  {
   "cell_type": "code",
   "execution_count": 156,
   "metadata": {
    "colab": {
     "base_uri": "https://localhost:8080/",
     "height": 286
    },
    "id": "0YvxqIX24JcX",
    "outputId": "2d2e950e-de01-4bf6-c97d-461736e91aad"
   },
   "outputs": [
    {
     "data": {
      "text/plain": [
       "<AxesSubplot:>"
      ]
     },
     "execution_count": 156,
     "metadata": {},
     "output_type": "execute_result"
    },
    {
     "data": {
      "image/png": "[encoded data removed]",
      "text/plain": [
       "<Figure size 432x288 with 2 Axes>"
      ]
     },
     "metadata": {
      "needs_background": "light"
     },
     "output_type": "display_data"
    }
   ],
   "source": [
    "# Correlation among features\n",
    "sns.heatmap(new_s_p500.corr())"
   ]
  },
  {
   "cell_type": "code",
   "execution_count": 157,
   "metadata": {
    "colab": {
     "base_uri": "https://localhost:8080/",
     "height": 424
    },
    "id": "718d817f",
    "outputId": "be5c3ec8-361d-47b4-8d41-eeda4205dc45"
   },
   "outputs": [
    {
     "data": {
      "text/html": [
       "<div>\n",
       "<style scoped>\n",
       "    .dataframe tbody tr th:only-of-type {\n",
       "        vertical-align: middle;\n",
       "    }\n",
       "\n",
       "    .dataframe tbody tr th {\n",
       "        vertical-align: top;\n",
       "    }\n",
       "\n",
       "    .dataframe thead th {\n",
       "        text-align: right;\n",
       "    }\n",
       "</style>\n",
       "<table border=\"1\" class=\"dataframe\">\n",
       "  <thead>\n",
       "    <tr style=\"text-align: right;\">\n",
       "      <th></th>\n",
       "      <th>Date</th>\n",
       "      <th>Close/Last</th>\n",
       "      <th>Open</th>\n",
       "      <th>High</th>\n",
       "      <th>Low</th>\n",
       "      <th>year</th>\n",
       "    </tr>\n",
       "  </thead>\n",
       "  <tbody>\n",
       "    <tr>\n",
       "      <th>2547</th>\n",
       "      <td>2012-06-27</td>\n",
       "      <td>1331.85</td>\n",
       "      <td>1320.71</td>\n",
       "      <td>1334.40</td>\n",
       "      <td>1320.71</td>\n",
       "      <td>2012</td>\n",
       "    </tr>\n",
       "    <tr>\n",
       "      <th>2546</th>\n",
       "      <td>2012-06-28</td>\n",
       "      <td>1329.04</td>\n",
       "      <td>1331.52</td>\n",
       "      <td>1331.52</td>\n",
       "      <td>1313.29</td>\n",
       "      <td>2012</td>\n",
       "    </tr>\n",
       "    <tr>\n",
       "      <th>2545</th>\n",
       "      <td>2012-06-29</td>\n",
       "      <td>1362.16</td>\n",
       "      <td>1330.12</td>\n",
       "      <td>1362.17</td>\n",
       "      <td>1330.12</td>\n",
       "      <td>2012</td>\n",
       "    </tr>\n",
       "    <tr>\n",
       "      <th>2544</th>\n",
       "      <td>2012-07-02</td>\n",
       "      <td>1365.51</td>\n",
       "      <td>1362.33</td>\n",
       "      <td>1366.35</td>\n",
       "      <td>1355.70</td>\n",
       "      <td>2012</td>\n",
       "    </tr>\n",
       "    <tr>\n",
       "      <th>2543</th>\n",
       "      <td>2012-07-03</td>\n",
       "      <td>1374.02</td>\n",
       "      <td>1365.75</td>\n",
       "      <td>1374.81</td>\n",
       "      <td>1363.53</td>\n",
       "      <td>2012</td>\n",
       "    </tr>\n",
       "    <tr>\n",
       "      <th>...</th>\n",
       "      <td>...</td>\n",
       "      <td>...</td>\n",
       "      <td>...</td>\n",
       "      <td>...</td>\n",
       "      <td>...</td>\n",
       "      <td>...</td>\n",
       "    </tr>\n",
       "    <tr>\n",
       "      <th>4</th>\n",
       "      <td>2022-06-17</td>\n",
       "      <td>3674.84</td>\n",
       "      <td>3665.90</td>\n",
       "      <td>3707.71</td>\n",
       "      <td>3636.87</td>\n",
       "      <td>2022</td>\n",
       "    </tr>\n",
       "    <tr>\n",
       "      <th>3</th>\n",
       "      <td>2022-06-21</td>\n",
       "      <td>3764.79</td>\n",
       "      <td>3715.31</td>\n",
       "      <td>3779.65</td>\n",
       "      <td>3715.31</td>\n",
       "      <td>2022</td>\n",
       "    </tr>\n",
       "    <tr>\n",
       "      <th>2</th>\n",
       "      <td>2022-06-22</td>\n",
       "      <td>3759.89</td>\n",
       "      <td>3733.89</td>\n",
       "      <td>3801.79</td>\n",
       "      <td>3717.69</td>\n",
       "      <td>2022</td>\n",
       "    </tr>\n",
       "    <tr>\n",
       "      <th>1</th>\n",
       "      <td>2022-06-23</td>\n",
       "      <td>3795.73</td>\n",
       "      <td>3774.71</td>\n",
       "      <td>3802.58</td>\n",
       "      <td>3743.52</td>\n",
       "      <td>2022</td>\n",
       "    </tr>\n",
       "    <tr>\n",
       "      <th>0</th>\n",
       "      <td>2022-06-24</td>\n",
       "      <td>3911.74</td>\n",
       "      <td>3821.75</td>\n",
       "      <td>3913.65</td>\n",
       "      <td>3821.75</td>\n",
       "      <td>2022</td>\n",
       "    </tr>\n",
       "  </tbody>\n",
       "</table>\n",
       "<p>2515 rows × 6 columns</p>\n",
       "</div>"
      ],
      "text/plain": [
       "           Date  Close/Last     Open     High      Low  year\n",
       "2547 2012-06-27     1331.85  1320.71  1334.40  1320.71  2012\n",
       "2546 2012-06-28     1329.04  1331.52  1331.52  1313.29  2012\n",
       "2545 2012-06-29     1362.16  1330.12  1362.17  1330.12  2012\n",
       "2544 2012-07-02     1365.51  1362.33  1366.35  1355.70  2012\n",
       "2543 2012-07-03     1374.02  1365.75  1374.81  1363.53  2012\n",
       "...         ...         ...      ...      ...      ...   ...\n",
       "4    2022-06-17     3674.84  3665.90  3707.71  3636.87  2022\n",
       "3    2022-06-21     3764.79  3715.31  3779.65  3715.31  2022\n",
       "2    2022-06-22     3759.89  3733.89  3801.79  3717.69  2022\n",
       "1    2022-06-23     3795.73  3774.71  3802.58  3743.52  2022\n",
       "0    2022-06-24     3911.74  3821.75  3913.65  3821.75  2022\n",
       "\n",
       "[2515 rows x 6 columns]"
      ]
     },
     "execution_count": 157,
     "metadata": {},
     "output_type": "execute_result"
    }
   ],
   "source": [
    "# sorting date column\n",
    "new_s_p500=new_s_p500.sort_values(\"Date\", ascending=True)\n",
    "new_s_p500"
   ]
  },
  {
   "cell_type": "code",
   "execution_count": 158,
   "metadata": {
    "colab": {
     "base_uri": "https://localhost:8080/"
    },
    "id": "aSuuhNjYuSHh",
    "outputId": "edc8091d-8f2e-43ef-a52c-3b15f927a6e1"
   },
   "outputs": [
    {
     "name": "stdout",
     "output_type": "stream",
     "text": [
      "[[0.00081038]\n",
      " [0.        ]\n",
      " [0.0095515 ]\n",
      " ...\n",
      " [0.70103417]\n",
      " [0.71137009]\n",
      " [0.74482627]]\n"
     ]
    }
   ],
   "source": [
    "# normalizing the close/last price column\n",
    "from sklearn.preprocessing import MinMaxScaler\n",
    "scaler=MinMaxScaler(feature_range=(0,1))\n",
    "df1=scaler.fit_transform(np.array(new_s_p500[\"Close/Last\"]).reshape(-1,1))\n",
    "print(df1)"
   ]
  },
  {
   "cell_type": "code",
   "execution_count": 159,
   "metadata": {
    "id": "Wn4A2iWqwKPd"
   },
   "outputs": [],
   "source": [
    "##splitting dataset into train and test split\n",
    "training_size=int(len(df1)*0.7)\n",
    "test_size=len(df1)-training_size\n",
    "train_data,test_data=df1[0:training_size,:],df1[training_size:len(df1),:1]"
   ]
  },
  {
   "cell_type": "code",
   "execution_count": 160,
   "metadata": {
    "colab": {
     "base_uri": "https://localhost:8080/"
    },
    "id": "W-scz_dfwU8E",
    "outputId": "04afd642-7ac7-4860-eef3-cce5e017f9b4"
   },
   "outputs": [
    {
     "data": {
      "text/plain": [
       "(1760, 755)"
      ]
     },
     "execution_count": 160,
     "metadata": {},
     "output_type": "execute_result"
    }
   ],
   "source": [
    "training_size, test_size"
   ]
  },
  {
   "cell_type": "code",
   "execution_count": 161,
   "metadata": {
    "colab": {
     "base_uri": "https://localhost:8080/"
    },
    "id": "n2vedJjtwqxu",
    "outputId": "c581f77f-d879-4b16-8511-b885b8a3f9be"
   },
   "outputs": [
    {
     "data": {
      "text/plain": [
       "array([[0.00081038],\n",
       "       [0.        ],\n",
       "       [0.0095515 ],\n",
       "       ...,\n",
       "       [0.46612853],\n",
       "       [0.45806225],\n",
       "       [0.45702404]])"
      ]
     },
     "execution_count": 161,
     "metadata": {},
     "output_type": "execute_result"
    }
   ],
   "source": [
    "train_data"
   ]
  },
  {
   "cell_type": "code",
   "execution_count": 162,
   "metadata": {
    "id": "RMD0H5grw0-l"
   },
   "outputs": [],
   "source": [
    "# convert an array of values into a dataset matrix\n",
    "def create_dataset(dataset, time_step=1):\n",
    "\tdataX, dataY = [], []\n",
    "\tfor i in range(len(dataset)-time_step-1):\n",
    "\t\ta = dataset[i:(i+time_step), 0]   ###i=0, 0,1,2,3-----15 \n",
    "\t\tdataX.append(a)\n",
    "\t\tdataY.append(dataset[i + time_step, 0])\n",
    "\treturn np.array(dataX), np.array(dataY)"
   ]
  },
  {
   "cell_type": "code",
   "execution_count": 163,
   "metadata": {
    "colab": {
     "base_uri": "https://localhost:8080/"
    },
    "id": "AtrYn0l5xalt",
    "outputId": "ad3a50b5-0879-4cd8-d63e-4b3feb20a2dc"
   },
   "outputs": [
    {
     "name": "stdout",
     "output_type": "stream",
     "text": [
      "(1744, 15)\n",
      "(1744,)\n",
      "(739, 15)\n",
      "(739,)\n"
     ]
    },
    {
     "data": {
      "text/plain": [
       "(None, None)"
      ]
     },
     "execution_count": 163,
     "metadata": {},
     "output_type": "execute_result"
    }
   ],
   "source": [
    "# reshape into X=t,t+1,t+2,t+3 and Y=t+4\n",
    "time_step = 15\n",
    "X_train, y_train = create_dataset(train_data, time_step)\n",
    "X_test, ytest = create_dataset(test_data, time_step)\n",
    "print(X_train.shape), print(y_train.shape)\n",
    "print(X_test.shape), print(ytest.shape)"
   ]
  },
  {
   "cell_type": "code",
   "execution_count": 164,
   "metadata": {
    "id": "rkGD_5v-yyE1"
   },
   "outputs": [],
   "source": [
    "# reshape input to be [samples, time steps, features] which is required for LSTM\n",
    "X_train =X_train.reshape(X_train.shape[0],X_train.shape[1] , 1)\n",
    "X_test = X_test.reshape(X_test.shape[0],X_test.shape[1] , 1)"
   ]
  },
  {
   "cell_type": "code",
   "execution_count": 165,
   "metadata": {
    "colab": {
     "base_uri": "https://localhost:8080/"
    },
    "id": "rWuIMcooAIAB",
    "outputId": "1171f9fb-3df3-48ee-80a4-baea74dddc79"
   },
   "outputs": [
    {
     "name": "stdout",
     "output_type": "stream",
     "text": [
      "Requirement already satisfied: tensorflow in c:\\users\\kiit1\\anaconda3\\lib\\site-packages (2.9.1)\n",
      "Note: you may need to restart the kernel to use updated packages.Requirement already satisfied: libclang>=13.0.0 in c:\\users\\kiit1\\anaconda3\\lib\\site-packages (from tensorflow) (14.0.6)\n",
      "Requirement already satisfied: h5py>=2.9.0 in c:\\users\\kiit1\\anaconda3\\lib\\site-packages (from tensorflow) (3.6.0)\n",
      "Requirement already satisfied: tensorflow-estimator<2.10.0,>=2.9.0rc0 in c:\\users\\kiit1\\anaconda3\\lib\\site-packages (from tensorflow) (2.9.0)\n",
      "Requirement already satisfied: wrapt>=1.11.0 in c:\\users\\kiit1\\anaconda3\\lib\\site-packages (from tensorflow) (1.12.1)\n",
      "Requirement already satisfied: six>=1.12.0 in c:\\users\\kiit1\\anaconda3\\lib\\site-packages (from tensorflow) (1.16.0)\n",
      "Requirement already satisfied: astunparse>=1.6.0 in c:\\users\\kiit1\\anaconda3\\lib\\site-packages (from tensorflow) (1.6.3)\n",
      "Requirement already satisfied: opt-einsum>=2.3.2 in c:\\users\\kiit1\\anaconda3\\lib\\site-packages (from tensorflow) (3.3.0)\n",
      "Requirement already satisfied: gast<=0.4.0,>=0.2.1 in c:\\users\\kiit1\\anaconda3\\lib\\site-packages (from tensorflow) (0.4.0)\n",
      "Requirement already satisfied: google-pasta>=0.1.1 in c:\\users\\kiit1\\anaconda3\\lib\\site-packages (from tensorflow) (0.2.0)\n",
      "Requirement already satisfied: tensorflow-io-gcs-filesystem>=0.23.1 in c:\\users\\kiit1\\anaconda3\\lib\\site-packages (from tensorflow) (0.26.0)\n",
      "Requirement already satisfied: grpcio<2.0,>=1.24.3 in c:\\users\\kiit1\\anaconda3\\lib\\site-packages (from tensorflow) (1.42.0)\n",
      "Requirement already satisfied: tensorboard<2.10,>=2.9 in c:\\users\\kiit1\\anaconda3\\lib\\site-packages (from tensorflow) (2.9.1)\n",
      "Requirement already satisfied: setuptools in c:\\users\\kiit1\\anaconda3\\lib\\site-packages (from tensorflow) (61.2.0)\n",
      "Requirement already satisfied: keras<2.10.0,>=2.9.0rc0 in c:\\users\\kiit1\\anaconda3\\lib\\site-packages (from tensorflow) (2.9.0)\n",
      "Requirement already satisfied: numpy>=1.20 in c:\\users\\kiit1\\anaconda3\\lib\\site-packages (from tensorflow) (1.21.5)\n",
      "Requirement already satisfied: absl-py>=1.0.0 in c:\\users\\kiit1\\anaconda3\\lib\\site-packages (from tensorflow) (1.2.0)\n",
      "Requirement already satisfied: protobuf<3.20,>=3.9.2 in c:\\users\\kiit1\\anaconda3\\lib\\site-packages (from tensorflow) (3.19.1)\n",
      "Requirement already satisfied: termcolor>=1.1.0 in c:\\users\\kiit1\\anaconda3\\lib\\site-packages (from tensorflow) (1.1.0)\n",
      "Requirement already satisfied: flatbuffers<2,>=1.12 in c:\\users\\kiit1\\anaconda3\\lib\\site-packages (from tensorflow) (1.12)\n",
      "Requirement already satisfied: typing-extensions>=3.6.6 in c:\\users\\kiit1\\anaconda3\\lib\\site-packages (from tensorflow) (4.1.1)\n",
      "Requirement already satisfied: packaging in c:\\users\\kiit1\\anaconda3\\lib\\site-packages (from tensorflow) (21.3)\n",
      "Requirement already satisfied: keras-preprocessing>=1.1.1 in c:\\users\\kiit1\\anaconda3\\lib\\site-packages (from tensorflow) (1.1.2)\n",
      "Requirement already satisfied: wheel<1.0,>=0.23.0 in c:\\users\\kiit1\\anaconda3\\lib\\site-packages (from astunparse>=1.6.0->tensorflow) (0.37.1)\n",
      "Requirement already satisfied: markdown>=2.6.8 in c:\\users\\kiit1\\anaconda3\\lib\\site-packages (from tensorboard<2.10,>=2.9->tensorflow) (3.3.4)\n",
      "Requirement already satisfied: werkzeug>=1.0.1 in c:\\users\\kiit1\\anaconda3\\lib\\site-packages (from tensorboard<2.10,>=2.9->tensorflow) (2.0.3)\n",
      "Requirement already satisfied: tensorboard-plugin-wit>=1.6.0 in c:\\users\\kiit1\\anaconda3\\lib\\site-packages (from tensorboard<2.10,>=2.9->tensorflow) (1.8.1)\n",
      "Requirement already satisfied: requests<3,>=2.21.0 in c:\\users\\kiit1\\anaconda3\\lib\\site-packages (from tensorboard<2.10,>=2.9->tensorflow) (2.27.1)\n",
      "Requirement already satisfied: google-auth<3,>=1.6.3 in c:\\users\\kiit1\\anaconda3\\lib\\site-packages (from tensorboard<2.10,>=2.9->tensorflow) (1.33.0)\n",
      "Requirement already satisfied: google-auth-oauthlib<0.5,>=0.4.1 in c:\\users\\kiit1\\anaconda3\\lib\\site-packages (from tensorboard<2.10,>=2.9->tensorflow) (0.4.6)\n",
      "Requirement already satisfied: tensorboard-data-server<0.7.0,>=0.6.0 in c:\\users\\kiit1\\anaconda3\\lib\\site-packages (from tensorboard<2.10,>=2.9->tensorflow) (0.6.1)\n",
      "Requirement already satisfied: cachetools<5.0,>=2.0.0 in c:\\users\\kiit1\\anaconda3\\lib\\site-packages (from google-auth<3,>=1.6.3->tensorboard<2.10,>=2.9->tensorflow) (4.2.2)\n",
      "Requirement already satisfied: pyasn1-modules>=0.2.1 in c:\\users\\kiit1\\anaconda3\\lib\\site-packages (from google-auth<3,>=1.6.3->tensorboard<2.10,>=2.9->tensorflow) (0.2.8)\n",
      "Requirement already satisfied: rsa<5,>=3.1.4 in c:\\users\\kiit1\\anaconda3\\lib\\site-packages (from google-auth<3,>=1.6.3->tensorboard<2.10,>=2.9->tensorflow) (4.7.2)\n",
      "Requirement already satisfied: requests-oauthlib>=0.7.0 in c:\\users\\kiit1\\anaconda3\\lib\\site-packages (from google-auth-oauthlib<0.5,>=0.4.1->tensorboard<2.10,>=2.9->tensorflow) (1.3.1)\n",
      "Requirement already satisfied: pyasn1<0.5.0,>=0.4.6 in c:\\users\\kiit1\\anaconda3\\lib\\site-packages (from pyasn1-modules>=0.2.1->google-auth<3,>=1.6.3->tensorboard<2.10,>=2.9->tensorflow) (0.4.8)\n",
      "Requirement already satisfied: charset-normalizer~=2.0.0 in c:\\users\\kiit1\\anaconda3\\lib\\site-packages (from requests<3,>=2.21.0->tensorboard<2.10,>=2.9->tensorflow) (2.0.4)\n",
      "Requirement already satisfied: urllib3<1.27,>=1.21.1 in c:\\users\\kiit1\\anaconda3\\lib\\site-packages (from requests<3,>=2.21.0->tensorboard<2.10,>=2.9->tensorflow) (1.26.9)\n",
      "Requirement already satisfied: certifi>=2017.4.17 in c:\\users\\kiit1\\anaconda3\\lib\\site-packages (from requests<3,>=2.21.0->tensorboard<2.10,>=2.9->tensorflow) (2021.10.8)\n",
      "Requirement already satisfied: idna<4,>=2.5 in c:\\users\\kiit1\\anaconda3\\lib\\site-packages (from requests<3,>=2.21.0->tensorboard<2.10,>=2.9->tensorflow) (3.3)\n",
      "Requirement already satisfied: oauthlib>=3.0.0 in c:\\users\\kiit1\\anaconda3\\lib\\site-packages (from requests-oauthlib>=0.7.0->google-auth-oauthlib<0.5,>=0.4.1->tensorboard<2.10,>=2.9->tensorflow) (3.2.0)\n",
      "Requirement already satisfied: pyparsing!=3.0.5,>=2.0.2 in c:\\users\\kiit1\\anaconda3\\lib\\site-packages (from packaging->tensorflow) (3.0.4)\n",
      "\n"
     ]
    }
   ],
   "source": [
    "pip install tensorflow"
   ]
  },
  {
   "cell_type": "code",
   "execution_count": 166,
   "metadata": {
    "id": "dUZIS8cXy-Lw"
   },
   "outputs": [],
   "source": [
    "### Create the Stacked LSTM model\n",
    "\n",
    "from tensorflow.keras.models import Sequential\n",
    "from tensorflow.keras.layers import Dense\n",
    "from tensorflow.keras.layers import LSTM"
   ]
  },
  {
   "cell_type": "code",
   "execution_count": 167,
   "metadata": {
    "id": "o33yVNQuzB1v"
   },
   "outputs": [],
   "source": [
    "model=Sequential()\n",
    "model.add(LSTM(50,return_sequences=True,input_shape=(15,1)))\n",
    "model.add(LSTM(50,return_sequences=True))\n",
    "model.add(LSTM(50))\n",
    "model.add(Dense(1))\n",
    "model.compile(loss='mean_squared_error',optimizer='adam')"
   ]
  },
  {
   "cell_type": "code",
   "execution_count": 168,
   "metadata": {
    "colab": {
     "base_uri": "https://localhost:8080/"
    },
    "id": "Nar1_BiDzSib",
    "outputId": "4951aac6-3996-4147-a973-86840caddb1a"
   },
   "outputs": [
    {
     "name": "stdout",
     "output_type": "stream",
     "text": [
      "Model: \"sequential_2\"\n",
      "_________________________________________________________________\n",
      " Layer (type)                Output Shape              Param #   \n",
      "=================================================================\n",
      " lstm_6 (LSTM)               (None, 15, 50)            10400     \n",
      "                                                                 \n",
      " lstm_7 (LSTM)               (None, 15, 50)            20200     \n",
      "                                                                 \n",
      " lstm_8 (LSTM)               (None, 50)                20200     \n",
      "                                                                 \n",
      " dense_2 (Dense)             (None, 1)                 51        \n",
      "                                                                 \n",
      "=================================================================\n",
      "Total params: 50,851\n",
      "Trainable params: 50,851\n",
      "Non-trainable params: 0\n",
      "_________________________________________________________________\n"
     ]
    }
   ],
   "source": [
    "model.summary()"
   ]
  },
  {
   "cell_type": "code",
   "execution_count": 169,
   "metadata": {
    "colab": {
     "base_uri": "https://localhost:8080/"
    },
    "id": "JRLNVjh-zkMF",
    "outputId": "2bf44a3a-e45d-4b06-bd33-48073a58db79"
   },
   "outputs": [
    {
     "name": "stdout",
     "output_type": "stream",
     "text": [
      "Epoch 1/50\n",
      "117/117 [==============================] - 13s 35ms/step - loss: 0.0027 - val_loss: 0.0018\n",
      "Epoch 2/50\n",
      "117/117 [==============================] - 2s 19ms/step - loss: 1.5673e-04 - val_loss: 0.0035\n",
      "Epoch 3/50\n",
      "117/117 [==============================] - 2s 19ms/step - loss: 1.6350e-04 - val_loss: 0.0014\n",
      "Epoch 4/50\n",
      "117/117 [==============================] - 2s 18ms/step - loss: 1.6806e-04 - val_loss: 0.0030\n",
      "Epoch 5/50\n",
      "117/117 [==============================] - 2s 18ms/step - loss: 1.8297e-04 - val_loss: 0.0019\n",
      "Epoch 6/50\n",
      "117/117 [==============================] - 2s 18ms/step - loss: 1.7370e-04 - val_loss: 0.0030\n",
      "Epoch 7/50\n",
      "117/117 [==============================] - 2s 20ms/step - loss: 1.5591e-04 - val_loss: 0.0033\n",
      "Epoch 8/50\n",
      "117/117 [==============================] - 2s 19ms/step - loss: 1.5187e-04 - val_loss: 0.0033\n",
      "Epoch 9/50\n",
      "117/117 [==============================] - 2s 19ms/step - loss: 1.7637e-04 - val_loss: 0.0017\n",
      "Epoch 10/50\n",
      "117/117 [==============================] - 2s 20ms/step - loss: 1.3771e-04 - val_loss: 0.0028\n",
      "Epoch 11/50\n",
      "117/117 [==============================] - 2s 19ms/step - loss: 1.6670e-04 - val_loss: 0.0024\n",
      "Epoch 12/50\n",
      "117/117 [==============================] - 2s 19ms/step - loss: 1.3440e-04 - val_loss: 0.0015\n",
      "Epoch 13/50\n",
      "117/117 [==============================] - 2s 20ms/step - loss: 1.3683e-04 - val_loss: 0.0046\n",
      "Epoch 14/50\n",
      "117/117 [==============================] - 2s 20ms/step - loss: 1.5954e-04 - val_loss: 0.0017\n",
      "Epoch 15/50\n",
      "117/117 [==============================] - 2s 19ms/step - loss: 1.2843e-04 - val_loss: 9.2661e-04\n",
      "Epoch 16/50\n",
      "117/117 [==============================] - 2s 20ms/step - loss: 1.1642e-04 - val_loss: 0.0022\n",
      "Epoch 17/50\n",
      "117/117 [==============================] - 2s 19ms/step - loss: 1.1094e-04 - val_loss: 0.0010\n",
      "Epoch 18/50\n",
      "117/117 [==============================] - 2s 18ms/step - loss: 1.1367e-04 - val_loss: 0.0028\n",
      "Epoch 19/50\n",
      "117/117 [==============================] - 2s 18ms/step - loss: 1.0191e-04 - val_loss: 0.0013\n",
      "Epoch 20/50\n",
      "117/117 [==============================] - 2s 19ms/step - loss: 9.8353e-05 - val_loss: 5.2200e-04\n",
      "Epoch 21/50\n",
      "117/117 [==============================] - 2s 19ms/step - loss: 9.1912e-05 - val_loss: 7.8991e-04\n",
      "Epoch 22/50\n",
      "117/117 [==============================] - 2s 20ms/step - loss: 9.4376e-05 - val_loss: 8.2568e-04\n",
      "Epoch 23/50\n",
      "117/117 [==============================] - 2s 18ms/step - loss: 8.7099e-05 - val_loss: 4.6237e-04\n",
      "Epoch 24/50\n",
      "117/117 [==============================] - 2s 20ms/step - loss: 8.7077e-05 - val_loss: 7.3570e-04\n",
      "Epoch 25/50\n",
      "117/117 [==============================] - 2s 19ms/step - loss: 7.8401e-05 - val_loss: 4.1643e-04\n",
      "Epoch 26/50\n",
      "117/117 [==============================] - 2s 19ms/step - loss: 8.1978e-05 - val_loss: 3.8331e-04\n",
      "Epoch 27/50\n",
      "117/117 [==============================] - 2s 20ms/step - loss: 6.7685e-05 - val_loss: 3.4157e-04\n",
      "Epoch 28/50\n",
      "117/117 [==============================] - 2s 19ms/step - loss: 8.1412e-05 - val_loss: 4.7610e-04\n",
      "Epoch 29/50\n",
      "117/117 [==============================] - 2s 19ms/step - loss: 6.2441e-05 - val_loss: 8.1880e-04\n",
      "Epoch 30/50\n",
      "117/117 [==============================] - 2s 21ms/step - loss: 6.3738e-05 - val_loss: 8.4678e-04\n",
      "Epoch 31/50\n",
      "117/117 [==============================] - 2s 20ms/step - loss: 5.6202e-05 - val_loss: 3.6290e-04\n",
      "Epoch 32/50\n",
      "117/117 [==============================] - 2s 20ms/step - loss: 5.4629e-05 - val_loss: 4.8024e-04\n",
      "Epoch 33/50\n",
      "117/117 [==============================] - 3s 22ms/step - loss: 7.2071e-05 - val_loss: 7.0631e-04\n",
      "Epoch 34/50\n",
      "117/117 [==============================] - 2s 21ms/step - loss: 5.3013e-05 - val_loss: 0.0011\n",
      "Epoch 35/50\n",
      "117/117 [==============================] - 2s 20ms/step - loss: 4.6866e-05 - val_loss: 4.2830e-04\n",
      "Epoch 36/50\n",
      "117/117 [==============================] - 2s 19ms/step - loss: 4.9399e-05 - val_loss: 3.4874e-04\n",
      "Epoch 37/50\n",
      "117/117 [==============================] - 2s 21ms/step - loss: 5.9954e-05 - val_loss: 0.0012\n",
      "Epoch 38/50\n",
      "117/117 [==============================] - 2s 21ms/step - loss: 4.4045e-05 - val_loss: 0.0014\n",
      "Epoch 39/50\n",
      "117/117 [==============================] - 2s 21ms/step - loss: 4.4294e-05 - val_loss: 9.3574e-04\n",
      "Epoch 40/50\n",
      "117/117 [==============================] - 2s 20ms/step - loss: 4.6694e-05 - val_loss: 7.5804e-04\n",
      "Epoch 41/50\n",
      "117/117 [==============================] - 2s 20ms/step - loss: 4.6109e-05 - val_loss: 7.1781e-04\n",
      "Epoch 42/50\n",
      "117/117 [==============================] - 3s 24ms/step - loss: 4.3823e-05 - val_loss: 3.0966e-04\n",
      "Epoch 43/50\n",
      "117/117 [==============================] - 2s 21ms/step - loss: 5.7327e-05 - val_loss: 5.5446e-04\n",
      "Epoch 44/50\n",
      "117/117 [==============================] - 2s 20ms/step - loss: 4.5005e-05 - val_loss: 4.8984e-04\n",
      "Epoch 45/50\n",
      "117/117 [==============================] - 2s 21ms/step - loss: 4.1389e-05 - val_loss: 3.3227e-04\n",
      "Epoch 46/50\n",
      "117/117 [==============================] - 2s 19ms/step - loss: 4.0359e-05 - val_loss: 7.9180e-04\n",
      "Epoch 47/50\n",
      "117/117 [==============================] - 2s 20ms/step - loss: 3.8902e-05 - val_loss: 4.2758e-04\n",
      "Epoch 48/50\n",
      "117/117 [==============================] - 2s 20ms/step - loss: 4.0941e-05 - val_loss: 2.9826e-04\n",
      "Epoch 49/50\n",
      "117/117 [==============================] - 2s 19ms/step - loss: 3.6690e-05 - val_loss: 3.5628e-04\n",
      "Epoch 50/50\n",
      "117/117 [==============================] - 2s 20ms/step - loss: 4.6289e-05 - val_loss: 4.0876e-04\n"
     ]
    },
    {
     "data": {
      "text/plain": [
       "<keras.callbacks.History at 0x22f65ce9400>"
      ]
     },
     "execution_count": 169,
     "metadata": {},
     "output_type": "execute_result"
    }
   ],
   "source": [
    "model.fit(X_train,y_train,validation_data=(X_test,ytest),epochs=50,batch_size=15,verbose=1)"
   ]
  },
  {
   "cell_type": "code",
   "execution_count": 170,
   "metadata": {
    "id": "eSLX862j0PNK"
   },
   "outputs": [
    {
     "name": "stdout",
     "output_type": "stream",
     "text": [
      "55/55 [==============================] - 2s 7ms/step\n",
      "24/24 [==============================] - 0s 7ms/step\n"
     ]
    }
   ],
   "source": [
    "### Lets Do the prediction and check performance metrics\n",
    "train_predict=model.predict(X_train)\n",
    "test_predict=model.predict(X_test)"
   ]
  },
  {
   "cell_type": "code",
   "execution_count": 171,
   "metadata": {
    "colab": {
     "base_uri": "https://localhost:8080/"
    },
    "id": "lSeX81Hq0SGc",
    "outputId": "aeac952c-e888-4a40-dbc2-db77525b6a81"
   },
   "outputs": [
    {
     "name": "stdout",
     "output_type": "stream",
     "text": [
      "[[1353.4841]\n",
      " [1359.7056]\n",
      " [1358.8676]\n",
      " ...\n",
      " [2952.518 ]\n",
      " [2951.1516]\n",
      " [2941.8928]]\n"
     ]
    }
   ],
   "source": [
    "##Transformback to original form\n",
    "train_predict=scaler.inverse_transform(train_predict)\n",
    "test_predict=scaler.inverse_transform(test_predict)\n",
    "print(train_predict)\n"
   ]
  },
  {
   "cell_type": "code",
   "execution_count": 172,
   "metadata": {
    "colab": {
     "base_uri": "https://localhost:8080/"
    },
    "id": "rcgPsRhaBdFs",
    "outputId": "379e83ae-5b1a-439a-cd2f-ec56e0295622"
   },
   "outputs": [
    {
     "data": {
      "text/plain": [
       "array([[2989.1824],\n",
       "       [2976.36  ],\n",
       "       [2983.2883],\n",
       "       [3006.5583],\n",
       "       [3023.649 ],\n",
       "       [3007.0989],\n",
       "       [3022.9114],\n",
       "       [3021.04  ],\n",
       "       [3011.1204],\n",
       "       [2977.289 ],\n",
       "       [2947.8823],\n",
       "       [2928.1338],\n",
       "       [2847.838 ],\n",
       "       [2874.7397],\n",
       "       [2894.0764],\n",
       "       [2949.0078],\n",
       "       [2937.539 ],\n",
       "       [2892.0774],\n",
       "       [2921.9287],\n",
       "       [2850.589 ],\n",
       "       [2840.9983],\n",
       "       [2885.9197],\n",
       "       [2931.2756],\n",
       "       [2913.1558],\n",
       "       [2924.147 ],\n",
       "       [2923.8552],\n",
       "       [2849.994 ],\n",
       "       [2865.2354],\n",
       "       [2869.5764],\n",
       "       [2889.4058],\n",
       "       [2928.042 ],\n",
       "       [2934.4248],\n",
       "       [2909.9524],\n",
       "       [2931.8672],\n",
       "       [2974.3848],\n",
       "       [2982.0725],\n",
       "       [2976.689 ],\n",
       "       [2973.6611],\n",
       "       [2993.9556],\n",
       "       [3006.3376],\n",
       "       [3004.1902],\n",
       "       [2993.0916],\n",
       "       [2999.3027],\n",
       "       [3003.4153],\n",
       "       [3004.568 ],\n",
       "       [2990.409 ],\n",
       "       [2988.3862],\n",
       "       [2965.8572],\n",
       "       [2981.703 ],\n",
       "       [2980.6838],\n",
       "       [2964.32  ],\n",
       "       [2976.2742],\n",
       "       [2944.655 ],\n",
       "       [2888.1638],\n",
       "       [2904.7163],\n",
       "       [2955.6855],\n",
       "       [2952.3323],\n",
       "       [2901.196 ],\n",
       "       [2915.0068],\n",
       "       [2940.4534],\n",
       "       [2975.0854],\n",
       "       [2973.247 ],\n",
       "       [2995.076 ],\n",
       "       [2990.3472],\n",
       "       [2993.494 ],\n",
       "       [2981.9187],\n",
       "       [2999.7937],\n",
       "       [2994.013 ],\n",
       "       [3000.4224],\n",
       "       [3007.9673],\n",
       "       [3020.833 ],\n",
       "       [3038.564 ],\n",
       "       [3036.788 ],\n",
       "       [3043.5012],\n",
       "       [3034.6392],\n",
       "       [3061.8298],\n",
       "       [3077.9517],\n",
       "       [3073.2268],\n",
       "       [3071.9065],\n",
       "       [3080.0007],\n",
       "       [3089.3738],\n",
       "       [3083.7683],\n",
       "       [3087.0706],\n",
       "       [3090.4321],\n",
       "       [3093.607 ],\n",
       "       [3118.1782],\n",
       "       [3122.091 ],\n",
       "       [3117.3005],\n",
       "       [3103.2114],\n",
       "       [3097.0679],\n",
       "       [3105.6887],\n",
       "       [3132.5735],\n",
       "       [3142.1782],\n",
       "       [3152.9714],\n",
       "       [3138.0576],\n",
       "       [3106.209 ],\n",
       "       [3083.507 ],\n",
       "       [3106.657 ],\n",
       "       [3119.2527],\n",
       "       [3149.0708],\n",
       "       [3139.4778],\n",
       "       [3129.79  ],\n",
       "       [3137.3218],\n",
       "       [3166.6958],\n",
       "       [3168.8582],\n",
       "       [3188.5293],\n",
       "       [3189.2651],\n",
       "       [3184.444 ],\n",
       "       [3197.874 ],\n",
       "       [3216.0925],\n",
       "       [3219.1145],\n",
       "       [3216.1956],\n",
       "       [3232.6226],\n",
       "       [3234.0881],\n",
       "       [3212.551 ],\n",
       "       [3221.2715],\n",
       "       [3253.9912],\n",
       "       [3231.5486],\n",
       "       [3238.807 ],\n",
       "       [3231.06  ],\n",
       "       [3247.5469],\n",
       "       [3272.8674],\n",
       "       [3262.2178],\n",
       "       [3282.2908],\n",
       "       [3277.398 ],\n",
       "       [3281.146 ],\n",
       "       [3311.0479],\n",
       "       [3325.558 ],\n",
       "       [3312.162 ],\n",
       "       [3309.5566],\n",
       "       [3314.5012],\n",
       "       [3282.8713],\n",
       "       [3226.4568],\n",
       "       [3265.7878],\n",
       "       [3274.4004],\n",
       "       [3285.052 ],\n",
       "       [3220.626 ],\n",
       "       [3241.141 ],\n",
       "       [3301.8284],\n",
       "       [3344.3425],\n",
       "       [3348.587 ],\n",
       "       [3318.088 ],\n",
       "       [3338.8315],\n",
       "       [3347.4602],\n",
       "       [3370.2148],\n",
       "       [3363.0483],\n",
       "       [3366.8528],\n",
       "       [3356.1948],\n",
       "       [3374.2053],\n",
       "       [3362.0369],\n",
       "       [3321.6575],\n",
       "       [3200.574 ],\n",
       "       [3101.615 ],\n",
       "       [3105.9058],\n",
       "       [2984.9753],\n",
       "       [2959.4668],\n",
       "       [3110.9263],\n",
       "       [3047.988 ],\n",
       "       [3149.2468],\n",
       "       [3050.477 ],\n",
       "       [2970.5525],\n",
       "       [2747.9128],\n",
       "       [2853.4453],\n",
       "       [2772.5947],\n",
       "       [2524.232 ],\n",
       "       [2674.7812],\n",
       "       [2548.437 ],\n",
       "       [2544.1787],\n",
       "       [2513.5479],\n",
       "       [2503.7842],\n",
       "       [2502.2502],\n",
       "       [2500.059 ],\n",
       "       [2496.435 ],\n",
       "       [2491.6553],\n",
       "       [2606.626 ],\n",
       "       [2576.3118],\n",
       "       [2614.286 ],\n",
       "       [2592.7627],\n",
       "       [2492.9624],\n",
       "       [2500.2427],\n",
       "       [2487.4846],\n",
       "       [2624.3523],\n",
       "       [2674.065 ],\n",
       "       [2746.247 ],\n",
       "       [2791.4768],\n",
       "       [2764.9817],\n",
       "       [2821.012 ],\n",
       "       [2781.189 ],\n",
       "       [2778.8083],\n",
       "       [2851.1099],\n",
       "       [2825.267 ],\n",
       "       [2734.3242],\n",
       "       [2772.8   ],\n",
       "       [2795.3477],\n",
       "       [2835.9116],\n",
       "       [2882.079 ],\n",
       "       [2872.246 ],\n",
       "       [2932.415 ],\n",
       "       [2917.725 ],\n",
       "       [2829.4917],\n",
       "       [2823.4587],\n",
       "       [2858.1516],\n",
       "       [2852.4932],\n",
       "       [2880.017 ],\n",
       "       [2931.6873],\n",
       "       [2938.596 ],\n",
       "       [2874.8171],\n",
       "       [2812.7144],\n",
       "       [2838.0854],\n",
       "       [2864.6694],\n",
       "       [2955.1902],\n",
       "       [2940.8757],\n",
       "       [2970.3142],\n",
       "       [2950.3333],\n",
       "       [2947.7417],\n",
       "       [2983.3604],\n",
       "       [3033.5515],\n",
       "       [3031.3643],\n",
       "       [3037.7126],\n",
       "       [3047.8723],\n",
       "       [3073.063 ],\n",
       "       [3117.7568],\n",
       "       [3109.6118],\n",
       "       [3185.7246],\n",
       "       [3232.9763],\n",
       "       [3200.0002],\n",
       "       [3170.013 ],\n",
       "       [2975.3464],\n",
       "       [3005.8828],\n",
       "       [3064.7256],\n",
       "       [3139.482 ],\n",
       "       [3132.2983],\n",
       "       [3120.996 ],\n",
       "       [3096.7295],\n",
       "       [3113.4512],\n",
       "       [3131.3347],\n",
       "       [3048.9604],\n",
       "       [3072.2178],\n",
       "       [3009.2314],\n",
       "       [3047.1865],\n",
       "       [3108.0544],\n",
       "       [3128.6545],\n",
       "       [3135.988 ],\n",
       "       [3180.5256],\n",
       "       [3144.4646],\n",
       "       [3158.5513],\n",
       "       [3143.296 ],\n",
       "       [3175.7148],\n",
       "       [3150.0354],\n",
       "       [3189.472 ],\n",
       "       [3226.0886],\n",
       "       [3213.1958],\n",
       "       [3215.8518],\n",
       "       [3244.585 ],\n",
       "       [3251.9736],\n",
       "       [3269.0286],\n",
       "       [3224.6008],\n",
       "       [3198.8125],\n",
       "       [3228.7998],\n",
       "       [3214.665 ],\n",
       "       [3256.0864],\n",
       "       [3246.9211],\n",
       "       [3268.1611],\n",
       "       [3293.5247],\n",
       "       [3303.7815],\n",
       "       [3322.1943],\n",
       "       [3342.6406],\n",
       "       [3341.5483],\n",
       "       [3347.6028],\n",
       "       [3317.1118],\n",
       "       [3368.0767],\n",
       "       [3365.8225],\n",
       "       [3360.9885],\n",
       "       [3370.2742],\n",
       "       [3379.7935],\n",
       "       [3362.6235],\n",
       "       [3373.7397],\n",
       "       [3389.1953],\n",
       "       [3427.3528],\n",
       "       [3438.7468],\n",
       "       [3472.0393],\n",
       "       [3473.3   ],\n",
       "       [3493.6042],\n",
       "       [3481.3262],\n",
       "       [3509.1187],\n",
       "       [3572.1196],\n",
       "       [3419.4622],\n",
       "       [3386.916 ],\n",
       "       [3299.0078],\n",
       "       [3392.362 ],\n",
       "       [3342.8086],\n",
       "       [3341.182 ],\n",
       "       [3392.3167],\n",
       "       [3411.8975],\n",
       "       [3385.279 ],\n",
       "       [3345.6333],\n",
       "       [3303.593 ],\n",
       "       [3266.3823],\n",
       "       [3312.2412],\n",
       "       [3235.0999],\n",
       "       [3241.0955],\n",
       "       [3306.027 ],\n",
       "       [3367.8467],\n",
       "       [3342.0103],\n",
       "       [3357.769 ],\n",
       "       [3374.2637],\n",
       "       [3334.4258],\n",
       "       [3397.5706],\n",
       "       [3348.8474],\n",
       "       [3408.106 ],\n",
       "       [3443.3743],\n",
       "       [3471.258 ],\n",
       "       [3528.5527],\n",
       "       [3493.6514],\n",
       "       [3457.5515],\n",
       "       [3454.6135],\n",
       "       [3463.0142],\n",
       "       [3402.8376],\n",
       "       [3426.5015],\n",
       "       [3427.3938],\n",
       "       [3449.542 ],\n",
       "       [3462.8743],\n",
       "       [3385.196 ],\n",
       "       [3372.5356],\n",
       "       [3247.8032],\n",
       "       [3299.0732],\n",
       "       [3274.582 ],\n",
       "       [3319.6555],\n",
       "       [3387.6345],\n",
       "       [3464.0515],\n",
       "       [3524.538 ],\n",
       "       [3502.2546],\n",
       "       [3531.397 ],\n",
       "       [3519.4468],\n",
       "       [3546.5645],\n",
       "       [3504.6602],\n",
       "       [3562.1804],\n",
       "       [3615.1194],\n",
       "       [3586.884 ],\n",
       "       [3531.2544],\n",
       "       [3553.951 ],\n",
       "       [3534.143 ],\n",
       "       [3562.6177],\n",
       "       [3634.0344],\n",
       "       [3619.3193],\n",
       "       [3618.9663],\n",
       "       [3595.291 ],\n",
       "       [3645.329 ],\n",
       "       [3652.1694],\n",
       "       [3643.5413],\n",
       "       [3680.5322],\n",
       "       [3668.099 ],\n",
       "       [3677.099 ],\n",
       "       [3640.4172],\n",
       "       [3638.7021],\n",
       "       [3639.6106],\n",
       "       [3624.3647],\n",
       "       [3685.307 ],\n",
       "       [3689.5989],\n",
       "       [3706.8938],\n",
       "       [3683.6519],\n",
       "       [3663.8489],\n",
       "       [3658.6208],\n",
       "       [3667.2822],\n",
       "       [3685.7737],\n",
       "       [3723.458 ],\n",
       "       [3705.6401],\n",
       "       [3706.509 ],\n",
       "       [3735.068 ],\n",
       "       [3663.1387],\n",
       "       [3701.0613],\n",
       "       [3732.1526],\n",
       "       [3796.1702],\n",
       "       [3807.6033],\n",
       "       [3761.3044],\n",
       "       [3762.2026],\n",
       "       [3777.483 ],\n",
       "       [3761.0276],\n",
       "       [3729.9932],\n",
       "       [3776.4094],\n",
       "       [3842.6091],\n",
       "       [3829.7834],\n",
       "       [3804.1204],\n",
       "       [3821.4187],\n",
       "       [3814.3345],\n",
       "       [3691.2156],\n",
       "       [3759.2607],\n",
       "       [3678.7153],\n",
       "       [3765.2273],\n",
       "       [3829.404 ],\n",
       "       [3815.3286],\n",
       "       [3852.962 ],\n",
       "       [3858.8577],\n",
       "       [3885.1096],\n",
       "       [3869.986 ],\n",
       "       [3865.422 ],\n",
       "       [3875.5676],\n",
       "       [3900.008 ],\n",
       "       [3893.2314],\n",
       "       [3890.0098],\n",
       "       [3868.9204],\n",
       "       [3865.557 ],\n",
       "       [3832.9915],\n",
       "       [3849.3672],\n",
       "       [3909.899 ],\n",
       "       [3776.6301],\n",
       "       [3768.7031],\n",
       "       [3900.9468],\n",
       "       [3847.1748],\n",
       "       [3774.9321],\n",
       "       [3721.6282],\n",
       "       [3834.001 ],\n",
       "       [3803.744 ],\n",
       "       [3864.974 ],\n",
       "       [3881.0183],\n",
       "       [3917.4348],\n",
       "       [3906.4138],\n",
       "       [3930.9866],\n",
       "       [3915.7563],\n",
       "       [3929.7046],\n",
       "       [3853.5251],\n",
       "       [3866.5344],\n",
       "       [3913.2214],\n",
       "       [3871.2756],\n",
       "       [3847.3042],\n",
       "       [3882.2695],\n",
       "       [3965.0967],\n",
       "       [3941.137 ],\n",
       "       [3913.4165],\n",
       "       [3933.0466],\n",
       "       [3993.087 ],\n",
       "       [4054.953 ],\n",
       "       [4025.2446],\n",
       "       [4023.9802],\n",
       "       [4045.158 ],\n",
       "       [4083.4856],\n",
       "       [4071.8152],\n",
       "       [4086.6697],\n",
       "       [4060.7244],\n",
       "       [4127.6685],\n",
       "       [4135.943 ],\n",
       "       [4095.8704],\n",
       "       [4063.691 ],\n",
       "       [4129.9854],\n",
       "       [4071.3303],\n",
       "       [4141.583 ],\n",
       "       [4139.74  ],\n",
       "       [4130.441 ],\n",
       "       [4123.7056],\n",
       "       [4163.706 ],\n",
       "       [4113.7656],\n",
       "       [4137.4785],\n",
       "       [4099.677 ],\n",
       "       [4114.1094],\n",
       "       [4162.5884],\n",
       "       [4191.771 ],\n",
       "       [4114.771 ],\n",
       "       [4077.3882],\n",
       "       [3977.97  ],\n",
       "       [4083.7678],\n",
       "       [4162.4043],\n",
       "       [4119.727 ],\n",
       "       [4062.4844],\n",
       "       [4057.4001],\n",
       "       [4125.6777],\n",
       "       [4109.2856],\n",
       "       [4158.919 ],\n",
       "       [4130.4946],\n",
       "       [4138.607 ],\n",
       "       [4143.023 ],\n",
       "       [4145.757 ],\n",
       "       [4141.861 ],\n",
       "       [4151.194 ],\n",
       "       [4129.4756],\n",
       "       [4185.1416],\n",
       "       [4168.7676],\n",
       "       [4166.552 ],\n",
       "       [4155.6616],\n",
       "       [4186.1616],\n",
       "       [4191.4824],\n",
       "       [4196.612 ],\n",
       "       [4180.5146],\n",
       "       [4152.274 ],\n",
       "       [4160.777 ],\n",
       "       [4090.6116],\n",
       "       [4192.1196],\n",
       "       [4206.297 ],\n",
       "       [4183.7817],\n",
       "       [4213.153 ],\n",
       "       [4222.674 ],\n",
       "       [4227.9653],\n",
       "       [4223.8394],\n",
       "       [4230.6636],\n",
       "       [4259.8564],\n",
       "       [4295.0933],\n",
       "       [4266.785 ],\n",
       "       [4286.987 ],\n",
       "       [4231.082 ],\n",
       "       [4314.9956],\n",
       "       [4320.054 ],\n",
       "       [4287.5474],\n",
       "       [4299.0405],\n",
       "       [4279.843 ],\n",
       "       [4242.04  ],\n",
       "       [4164.683 ],\n",
       "       [4288.479 ],\n",
       "       [4318.5327],\n",
       "       [4306.479 ],\n",
       "       [4355.4473],\n",
       "       [4347.6577],\n",
       "       [4309.4434],\n",
       "       [4317.602 ],\n",
       "       [4348.206 ],\n",
       "       [4308.4   ],\n",
       "       [4307.008 ],\n",
       "       [4363.6665],\n",
       "       [4320.0186],\n",
       "       [4362.48  ],\n",
       "       [4361.8833],\n",
       "       [4350.7266],\n",
       "       [4357.998 ],\n",
       "       [4372.3604],\n",
       "       [4385.7593],\n",
       "       [4388.4697],\n",
       "       [4400.1396],\n",
       "       [4349.6855],\n",
       "       [4298.2417],\n",
       "       [4333.74  ],\n",
       "       [4387.642 ],\n",
       "       [4422.6646],\n",
       "       [4407.487 ],\n",
       "       [4412.505 ],\n",
       "       [4370.0063],\n",
       "       [4439.066 ],\n",
       "       [4450.377 ],\n",
       "       [4429.096 ],\n",
       "       [4432.0137],\n",
       "       [4450.998 ],\n",
       "       [4443.443 ],\n",
       "       [4422.087 ],\n",
       "       [4422.592 ],\n",
       "       [4398.8853],\n",
       "       [4362.2896],\n",
       "       [4396.634 ],\n",
       "       [4358.6587],\n",
       "       [4423.    ],\n",
       "       [4395.0156],\n",
       "       [4336.776 ],\n",
       "       [4250.9976],\n",
       "       [4287.57  ],\n",
       "       [4355.5063],\n",
       "       [4409.871 ],\n",
       "       [4385.025 ],\n",
       "       [4355.3022],\n",
       "       [4233.1924],\n",
       "       [4289.1455],\n",
       "       [4225.632 ],\n",
       "       [4318.7607],\n",
       "       [4221.674 ],\n",
       "       [4302.4683],\n",
       "       [4310.2363],\n",
       "       [4346.497 ],\n",
       "       [4313.628 ],\n",
       "       [4271.142 ],\n",
       "       [4271.812 ],\n",
       "       [4300.04  ],\n",
       "       [4399.4087],\n",
       "       [4408.778 ],\n",
       "       [4404.0605],\n",
       "       [4438.393 ],\n",
       "       [4445.3438],\n",
       "       [4455.33  ],\n",
       "       [4441.98  ],\n",
       "       [4476.4697],\n",
       "       [4479.645 ],\n",
       "       [4442.5713],\n",
       "       [4518.906 ],\n",
       "       [4511.029 ],\n",
       "       [4515.622 ],\n",
       "       [4534.622 ],\n",
       "       [4568.8257],\n",
       "       [4579.7417],\n",
       "       [4592.3965],\n",
       "       [4588.021 ],\n",
       "       [4562.579 ],\n",
       "       [4518.6343],\n",
       "       [4548.295 ],\n",
       "       [4599.2295],\n",
       "       [4579.739 ],\n",
       "       [4602.503 ],\n",
       "       [4573.489 ],\n",
       "       [4603.3994],\n",
       "       [4585.7207],\n",
       "       [4568.1494],\n",
       "       [4589.001 ],\n",
       "       [4601.5054],\n",
       "       [4440.6   ],\n",
       "       [4590.3525],\n",
       "       [4435.3403],\n",
       "       [4406.3086],\n",
       "       [4530.845 ],\n",
       "       [4444.941 ],\n",
       "       [4533.93  ],\n",
       "       [4638.7476],\n",
       "       [4600.637 ],\n",
       "       [4534.316 ],\n",
       "       [4617.1445],\n",
       "       [4534.8384],\n",
       "       [4510.2437],\n",
       "       [4642.781 ],\n",
       "       [4543.3115],\n",
       "       [4493.722 ],\n",
       "       [4447.702 ],\n",
       "       [4599.7637],\n",
       "       [4625.355 ],\n",
       "       [4632.0273],\n",
       "       [4702.1313],\n",
       "       [4654.0806],\n",
       "       [4664.932 ],\n",
       "       [4642.324 ],\n",
       "       [4636.666 ],\n",
       "       [4691.556 ],\n",
       "       [4670.2954],\n",
       "       [4536.1665],\n",
       "       [4588.7515],\n",
       "       [4570.059 ],\n",
       "       [4573.548 ],\n",
       "       [4637.9565],\n",
       "       [4629.867 ],\n",
       "       [4519.9556],\n",
       "       [4564.1797],\n",
       "       [4442.851 ],\n",
       "       [4430.704 ],\n",
       "       [4388.718 ],\n",
       "       [4298.8145],\n",
       "       [4361.948 ],\n",
       "       [4284.6025],\n",
       "       [4297.262 ],\n",
       "       [4267.731 ],\n",
       "       [4422.3555],\n",
       "       [4487.8916],\n",
       "       [4474.8354],\n",
       "       [4505.765 ],\n",
       "       [4322.1826],\n",
       "       [4412.5703],\n",
       "       [4391.328 ],\n",
       "       [4455.06  ],\n",
       "       [4528.487 ],\n",
       "       [4372.293 ],\n",
       "       [4289.3096],\n",
       "       [4318.167 ],\n",
       "       [4436.195 ],\n",
       "       [4409.335 ],\n",
       "       [4264.171 ],\n",
       "       [4263.795 ],\n",
       "       [4227.706 ],\n",
       "       [4143.5825],\n",
       "       [4268.641 ],\n",
       "       [4380.481 ],\n",
       "       [4312.435 ],\n",
       "       [4206.042 ],\n",
       "       [4345.036 ],\n",
       "       [4287.2437],\n",
       "       [4242.206 ],\n",
       "       [4082.6523],\n",
       "       [4102.5645],\n",
       "       [4277.788 ],\n",
       "       [4214.323 ],\n",
       "       [4128.494 ],\n",
       "       [4104.9346],\n",
       "       [4245.653 ],\n",
       "       [4345.6655],\n",
       "       [4366.25  ],\n",
       "       [4396.6196],\n",
       "       [4362.593 ],\n",
       "       [4430.302 ],\n",
       "       [4332.5747],\n",
       "       [4448.3066],\n",
       "       [4457.6567],\n",
       "       [4489.207 ],\n",
       "       [4549.754 ],\n",
       "       [4477.455 ],\n",
       "       [4388.745 ],\n",
       "       [4455.6587],\n",
       "       [4510.4336],\n",
       "       [4409.734 ],\n",
       "       [4374.3926],\n",
       "       [4429.3843],\n",
       "       [4408.018 ],\n",
       "       [4304.9404],\n",
       "       [4321.658 ],\n",
       "       [4404.8667],\n",
       "       [4306.1772],\n",
       "       [4323.445 ],\n",
       "       [4424.5996],\n",
       "       [4386.3174],\n",
       "       [4285.9688],\n",
       "       [4146.7417],\n",
       "       [4246.    ],\n",
       "       [4084.4082],\n",
       "       [4146.119 ],\n",
       "       [4293.703 ],\n",
       "       [4036.5015],\n",
       "       [4112.3745],\n",
       "       [4145.7065],\n",
       "       [4305.649 ],\n",
       "       [4042.083 ],\n",
       "       [4050.8115],\n",
       "       [3900.454 ],\n",
       "       [3968.3713],\n",
       "       [3897.0906],\n",
       "       [3909.9468],\n",
       "       [4038.2432],\n",
       "       [3988.1006],\n",
       "       [4078.9978],\n",
       "       [3833.92  ],\n",
       "       [3841.0657],\n",
       "       [3872.015 ],\n",
       "       [3975.446 ],\n",
       "       [3913.4622],\n",
       "       [3954.6013],\n",
       "       [4046.8113],\n",
       "       [4149.7393],\n",
       "       [4070.2402],\n",
       "       [4019.9768],\n",
       "       [4134.0977],\n",
       "       [4028.3462],\n",
       "       [4061.8213],\n",
       "       [4119.677 ],\n",
       "       [4048.215 ],\n",
       "       [3928.7441],\n",
       "       [3814.5825],\n",
       "       [3672.7498],\n",
       "       [3716.7231],\n",
       "       [3814.6565],\n",
       "       [3651.2104],\n",
       "       [3670.795 ],\n",
       "       [3790.7783],\n",
       "       [3767.418 ]], dtype=float32)"
      ]
     },
     "execution_count": 172,
     "metadata": {},
     "output_type": "execute_result"
    }
   ],
   "source": [
    "test_predict"
   ]
  },
  {
   "cell_type": "code",
   "execution_count": 173,
   "metadata": {
    "colab": {
     "base_uri": "https://localhost:8080/"
    },
    "id": "SYknvKlZ0WQr",
    "outputId": "57099975-69a1-4a50-c258-c2c006221cf9"
   },
   "outputs": [
    {
     "data": {
      "text/plain": [
       "2186.964457111626"
      ]
     },
     "execution_count": 173,
     "metadata": {},
     "output_type": "execute_result"
    }
   ],
   "source": [
    "### Calculate RMSE performance metrics\n",
    "import math\n",
    "from sklearn.metrics import mean_squared_error\n",
    "math.sqrt(mean_squared_error(y_train,train_predict))"
   ]
  },
  {
   "cell_type": "code",
   "execution_count": 174,
   "metadata": {
    "colab": {
     "base_uri": "https://localhost:8080/"
    },
    "id": "RGKT3_uj0Zz4",
    "outputId": "9acaf618-aeb5-4ceb-b598-ac3b36e24b12"
   },
   "outputs": [
    {
     "data": {
      "text/plain": [
       "3733.869314755546"
      ]
     },
     "execution_count": 174,
     "metadata": {},
     "output_type": "execute_result"
    }
   ],
   "source": [
    "### Test Data RMSE\n",
    "math.sqrt(mean_squared_error(ytest,test_predict))"
   ]
  },
  {
   "cell_type": "code",
   "execution_count": 175,
   "metadata": {
    "colab": {
     "base_uri": "https://localhost:8080/",
     "height": 592
    },
    "id": "h4WlnkAN0duI",
    "outputId": "a1fee9a7-41f5-4777-e19a-9bc0b702a6e0"
   },
   "outputs": [
    {
     "data": {
      "image/png": "[encoded data removed]",
      "text/plain": [
       "<Figure size 1440x720 with 1 Axes>"
      ]
     },
     "metadata": {
      "needs_background": "light"
     },
     "output_type": "display_data"
    }
   ],
   "source": [
    "### Plotting \n",
    "# shift train predictions for plotting\n",
    "look_back=15\n",
    "trainPredictPlot = np.empty_like(df1)\n",
    "trainPredictPlot[:, :] = np.nan\n",
    "trainPredictPlot[look_back:len(train_predict)+look_back, :] = train_predict\n",
    "# shift test predictions for plotting\n",
    "testPredictPlot = np.empty_like(df1)\n",
    "testPredictPlot[:, :] = np.nan\n",
    "testPredictPlot[len(train_predict)+(look_back*2)+1:len(df1)-1, :] = test_predict\n",
    "# plot baseline and predictions\n",
    "plt.figure(figsize=(20,10))\n",
    "plt.plot(scaler.inverse_transform(df1))\n",
    "plt.plot(trainPredictPlot)\n",
    "plt.plot(testPredictPlot)\n",
    "plt.show()"
   ]
  },
  {
   "cell_type": "code",
   "execution_count": 176,
   "metadata": {
    "colab": {
     "base_uri": "https://localhost:8080/"
    },
    "id": "W7ItJ_OC1PDA",
    "outputId": "650124bd-229c-4212-f466-8354eaa2d4ae"
   },
   "outputs": [
    {
     "data": {
      "text/plain": [
       "755"
      ]
     },
     "execution_count": 176,
     "metadata": {},
     "output_type": "execute_result"
    }
   ],
   "source": [
    "len(test_data)"
   ]
  },
  {
   "cell_type": "code",
   "execution_count": 177,
   "metadata": {
    "colab": {
     "base_uri": "https://localhost:8080/"
    },
    "id": "aALi6MwW1GWK",
    "outputId": "d3384caa-de91-429e-974a-f38e463a309d"
   },
   "outputs": [
    {
     "data": {
      "text/plain": [
       "(1, 15)"
      ]
     },
     "execution_count": 177,
     "metadata": {},
     "output_type": "execute_result"
    }
   ],
   "source": [
    "x_input=test_data[740:].reshape(1,-1)\n",
    "x_input.shape"
   ]
  },
  {
   "cell_type": "code",
   "execution_count": 178,
   "metadata": {
    "colab": {
     "base_uri": "https://localhost:8080/"
    },
    "id": "guhW_CO11fUr",
    "outputId": "68aefe15-634f-4a9e-d3cb-dbd1d4665b78"
   },
   "outputs": [
    {
     "data": {
      "text/plain": [
       "[0.8015815337763013,\n",
       " 0.8052988879660392,\n",
       " 0.8166182170542635,\n",
       " 0.8036665974529347,\n",
       " 0.7754187430786268,\n",
       " 0.7416885843484682,\n",
       " 0.6980752814691769,\n",
       " 0.6939945551864157,\n",
       " 0.7097147240679216,\n",
       " 0.6741792404946474,\n",
       " 0.6765065522332965,\n",
       " 0.7024472822074566,\n",
       " 0.7010341685123662,\n",
       " 0.7113700858250276,\n",
       " 0.7448262735326687]"
      ]
     },
     "execution_count": 178,
     "metadata": {},
     "output_type": "execute_result"
    }
   ],
   "source": [
    "temp_input=list(x_input)\n",
    "temp_input=temp_input[0].tolist()\n",
    "temp_input"
   ]
  },
  {
   "cell_type": "code",
   "execution_count": 179,
   "metadata": {
    "colab": {
     "base_uri": "https://localhost:8080/"
    },
    "id": "47wmMykY1qn-",
    "outputId": "c8a97d8b-77ac-41fa-d5ea-30afb57cb9a5"
   },
   "outputs": [
    {
     "name": "stdout",
     "output_type": "stream",
     "text": [
      "[0.7477986]\n",
      "16\n",
      "1 day input [0.80529889 0.81661822 0.8036666  0.77541874 0.74168858 0.69807528\n",
      " 0.69399456 0.70971472 0.67417924 0.67650655 0.70244728 0.70103417\n",
      " 0.71137009 0.74482627 0.74779862]\n",
      "1 day output [[0.7423049]]\n",
      "2 day input [0.81661822 0.8036666  0.77541874 0.74168858 0.69807528 0.69399456\n",
      " 0.70971472 0.67417924 0.67650655 0.70244728 0.70103417 0.71137009\n",
      " 0.74482627 0.74779862 0.74230492]\n",
      "2 day output [[0.7281411]]\n",
      "3 day input [0.8036666  0.77541874 0.74168858 0.69807528 0.69399456 0.70971472\n",
      " 0.67417924 0.67650655 0.70244728 0.70103417 0.71137009 0.74482627\n",
      " 0.74779862 0.74230492 0.72814113]\n",
      "3 day output [[0.7095339]]\n",
      "4 day input [0.77541874 0.74168858 0.69807528 0.69399456 0.70971472 0.67417924\n",
      " 0.67650655 0.70244728 0.70103417 0.71137009 0.74482627 0.74779862\n",
      " 0.74230492 0.72814113 0.70953387]\n",
      "4 day output [[0.6907481]]\n",
      "5 day input [0.74168858 0.69807528 0.69399456 0.70971472 0.67417924 0.67650655\n",
      " 0.70244728 0.70103417 0.71137009 0.74482627 0.74779862 0.74230492\n",
      " 0.72814113 0.70953387 0.6907481 ]\n",
      "5 day output [[0.6748834]]\n",
      "6 day input [0.69807528 0.69399456 0.70971472 0.67417924 0.67650655 0.70244728\n",
      " 0.70103417 0.71137009 0.74482627 0.74779862 0.74230492 0.72814113\n",
      " 0.70953387 0.6907481  0.67488343]\n",
      "6 day output [[0.6634625]]\n",
      "[[0.7477986216545105], [0.7423049211502075], [0.7281411290168762], [0.7095338702201843], [0.6907480955123901], [0.6748834252357483], [0.6634625196456909]]\n"
     ]
    }
   ],
   "source": [
    "# demonstrate prediction for next 10 days\n",
    "from numpy import array\n",
    "\n",
    "lst_output=[]\n",
    "n_steps=15\n",
    "i=0\n",
    "while(i<7):\n",
    "    \n",
    "    if(len(temp_input)>15):\n",
    "        #print(temp_input)\n",
    "        x_input=np.array(temp_input[1:])\n",
    "        print(\"{} day input {}\".format(i,x_input))\n",
    "        x_input=x_input.reshape(1,-1)\n",
    "        x_input = x_input.reshape((1, n_steps, 1))\n",
    "        #print(x_input)\n",
    "        yhat = model.predict(x_input, verbose=0)\n",
    "        print(\"{} day output {}\".format(i,yhat))\n",
    "        temp_input.extend(yhat[0].tolist())\n",
    "        temp_input=temp_input[1:]\n",
    "        #print(temp_input)\n",
    "        lst_output.extend(yhat.tolist())\n",
    "        i=i+1\n",
    "    else:\n",
    "        x_input = x_input.reshape((1, n_steps,1))\n",
    "        yhat = model.predict(x_input, verbose=0)\n",
    "        print(yhat[0])\n",
    "        temp_input.extend(yhat[0].tolist())\n",
    "        print(len(temp_input))\n",
    "        lst_output.extend(yhat.tolist())\n",
    "        i=i+1\n",
    "    \n",
    "\n",
    "print(lst_output)"
   ]
  },
  {
   "cell_type": "code",
   "execution_count": 180,
   "metadata": {
    "id": "Tsv1c1TW2xkl"
   },
   "outputs": [],
   "source": [
    "day_new=np.arange(1,16)\n",
    "day_pred=np.arange(16,23)"
   ]
  },
  {
   "cell_type": "code",
   "execution_count": 181,
   "metadata": {
    "colab": {
     "base_uri": "https://localhost:8080/"
    },
    "id": "YmTbIk7H3U0p",
    "outputId": "ce040d2c-0478-4bf0-8cc7-4901b407f249"
   },
   "outputs": [
    {
     "data": {
      "text/plain": [
       "2515"
      ]
     },
     "execution_count": 181,
     "metadata": {},
     "output_type": "execute_result"
    }
   ],
   "source": [
    "len(df1)\n"
   ]
  },
  {
   "cell_type": "code",
   "execution_count": 182,
   "metadata": {
    "colab": {
     "base_uri": "https://localhost:8080/",
     "height": 500
    },
    "id": "s14vxwgD3C-T",
    "outputId": "f62d3680-6ce5-471b-ca15-e34ffa3fffc2"
   },
   "outputs": [
    {
     "data": {
      "text/plain": [
       "[<matplotlib.lines.Line2D at 0x22f61971220>]"
      ]
     },
     "execution_count": 182,
     "metadata": {},
     "output_type": "execute_result"
    },
    {
     "data": {
      "image/png": "[encoded data removed]",
      "text/plain": [
       "<Figure size 1152x576 with 1 Axes>"
      ]
     },
     "metadata": {
      "needs_background": "light"
     },
     "output_type": "display_data"
    }
   ],
   "source": [
    "plt.figure(figsize=(16,8))\n",
    "plt.plot(day_new,scaler.inverse_transform(df1[2500:]))\n",
    "plt.plot(day_pred,scaler.inverse_transform(lst_output))"
   ]
  },
  {
   "cell_type": "code",
   "execution_count": 183,
   "metadata": {
    "colab": {
     "base_uri": "https://localhost:8080/",
     "height": 285
    },
    "id": "zecQ81Kn5g7K",
    "outputId": "bb2a0d4f-b710-40d0-e02b-4d84077575ea"
   },
   "outputs": [
    {
     "data": {
      "text/plain": [
       "[<matplotlib.lines.Line2D at 0x22f61915be0>]"
      ]
     },
     "execution_count": 183,
     "metadata": {},
     "output_type": "execute_result"
    },
    {
     "data": {
      "image/png": "[encoded data removed]",
      "text/plain": [
       "<Figure size 432x288 with 1 Axes>"
      ]
     },
     "metadata": {
      "needs_background": "light"
     },
     "output_type": "display_data"
    }
   ],
   "source": [
    "df3=df1.tolist()\n",
    "df3.extend(lst_output)\n",
    "plt.plot(scaler.inverse_transform(df3[2490:]))"
   ]
  },
  {
   "cell_type": "code",
   "execution_count": 184,
   "metadata": {
    "colab": {
     "base_uri": "https://localhost:8080/",
     "height": 514
    },
    "id": "xa1X-d0D5u7n",
    "outputId": "82eb50db-5c9f-481b-ae80-36ed4dafb6a3"
   },
   "outputs": [
    {
     "data": {
      "text/plain": [
       "[<matplotlib.lines.Line2D at 0x22f61925970>]"
      ]
     },
     "execution_count": 184,
     "metadata": {},
     "output_type": "execute_result"
    },
    {
     "data": {
      "image/png": "[encoded data removed]",
      "text/plain": [
       "<Figure size 1440x576 with 1 Axes>"
      ]
     },
     "metadata": {
      "needs_background": "light"
     },
     "output_type": "display_data"
    }
   ],
   "source": [
    "df3=scaler.inverse_transform(df3).tolist()\n",
    "plt.figure(figsize=(20,8))\n",
    "plt.xlabel(\"total observations\")\n",
    "plt.ylabel(\"Close/Last price till next 7 days\")\n",
    "plt.plot(df3)"
   ]
  },
  {
   "cell_type": "code",
   "execution_count": null,
   "metadata": {
    "id": "VzMlkNC5hhuT"
   },
   "outputs": [],
   "source": []
  },
  {
   "cell_type": "code",
   "execution_count": null,
   "metadata": {},
   "outputs": [],
   "source": []
  }
 ],
 "metadata": {
  "colab": {
   "collapsed_sections": [],
   "name": "stockmodel.ipynb",
   "provenance": []
  },
  "kernelspec": {
   "display_name": "Python 3 (ipykernel)",
   "language": "python",
   "name": "python3"
  },
  "language_info": {
   "codemirror_mode": {
    "name": "ipython",
    "version": 3
   },
   "file_extension": ".py",
   "mimetype": "text/x-python",
   "name": "python",
   "nbconvert_exporter": "python",
   "pygments_lexer": "ipython3",
   "version": "3.9.12"
  }
 },
 "nbformat": 4,
 "nbformat_minor": 1
}
